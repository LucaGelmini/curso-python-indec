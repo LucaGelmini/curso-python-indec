{
 "cells": [
  {
   "cell_type": "code",
   "execution_count": 64,
   "metadata": {},
   "outputs": [],
   "source": [
    "import pandas as pd\n",
    "import plotly.graph_objects as go\n",
    "import numpy as np"
   ]
  },
  {
   "cell_type": "markdown",
   "metadata": {},
   "source": [
    "- Leer 2 archivos: recursos tributarios y PBI a precios constantes.\n",
    "  - https://www.indec.gob.ar/ftp/cuadros/economia/070301_2021.xlsx\n",
    "  - "
   ]
  },
  {
   "cell_type": "code",
   "execution_count": 108,
   "metadata": {},
   "outputs": [
    {
     "data": {
      "text/html": [
       "<div>\n",
       "<style scoped>\n",
       "    .dataframe tbody tr th:only-of-type {\n",
       "        vertical-align: middle;\n",
       "    }\n",
       "\n",
       "    .dataframe tbody tr th {\n",
       "        vertical-align: top;\n",
       "    }\n",
       "\n",
       "    .dataframe thead th {\n",
       "        text-align: right;\n",
       "    }\n",
       "</style>\n",
       "<table border=\"1\" class=\"dataframe\">\n",
       "  <thead>\n",
       "    <tr style=\"text-align: right;\">\n",
       "      <th>Clasificación con base en el FMI</th>\n",
       "      <th>Año</th>\n",
       "      <th>Recaudación bruta total</th>\n",
       "      <th>Recaudación bruta de impuestos nacionales</th>\n",
       "      <th>Sobre el ingreso, las utilidades y las ganancias de capital</th>\n",
       "      <th>Personas físicas</th>\n",
       "      <th>A las ganancias</th>\n",
       "      <th>Premios juegos de azar y concursos deportivos</th>\n",
       "      <th>Otros</th>\n",
       "      <th>Compañías, sociedades de capital o empresas</th>\n",
       "      <th>A las ganancias</th>\n",
       "      <th>...</th>\n",
       "      <th>Impuestos permanentes sobre la propiedad inmueble</th>\n",
       "      <th>Impuestos sobre las transacciones financieras y de capital</th>\n",
       "      <th>Otros impuestos permanentes sobre la propiedad</th>\n",
       "      <th>Internos sobre bienes y servicios</th>\n",
       "      <th>Impuestos generales sobre los bienes o servicios</th>\n",
       "      <th>Otros</th>\n",
       "      <th>Deducciones</th>\n",
       "      <th>Reintegros a la exportación</th>\n",
       "      <th>Recaudación neta de impuestos nacionales</th>\n",
       "      <th>Recaudación neta total</th>\n",
       "    </tr>\n",
       "  </thead>\n",
       "  <tbody>\n",
       "    <tr>\n",
       "      <th>0</th>\n",
       "      <td>2013</td>\n",
       "      <td>1.049361e+06</td>\n",
       "      <td>8.738930e+05</td>\n",
       "      <td>185688.231475</td>\n",
       "      <td>79803.262158</td>\n",
       "      <td>79445.519577</td>\n",
       "      <td>354.119849</td>\n",
       "      <td>3.622732</td>\n",
       "      <td>99345.982582</td>\n",
       "      <td>97614.172978</td>\n",
       "      <td>...</td>\n",
       "      <td>14096.554270</td>\n",
       "      <td>14862.022220</td>\n",
       "      <td>9059.039950</td>\n",
       "      <td>132623.514030</td>\n",
       "      <td>132623.514030</td>\n",
       "      <td>4827.047060</td>\n",
       "      <td>5393.900000</td>\n",
       "      <td>5393.900000</td>\n",
       "      <td>8.684991e+05</td>\n",
       "      <td>1.043967e+06</td>\n",
       "    </tr>\n",
       "    <tr>\n",
       "      <th>1</th>\n",
       "      <td>2014</td>\n",
       "      <td>1.436363e+06</td>\n",
       "      <td>1.195287e+06</td>\n",
       "      <td>269808.745853</td>\n",
       "      <td>125502.622721</td>\n",
       "      <td>125066.234497</td>\n",
       "      <td>436.002338</td>\n",
       "      <td>0.385886</td>\n",
       "      <td>132177.860543</td>\n",
       "      <td>129880.604961</td>\n",
       "      <td>...</td>\n",
       "      <td>17428.513740</td>\n",
       "      <td>19285.433890</td>\n",
       "      <td>12005.539680</td>\n",
       "      <td>184674.883600</td>\n",
       "      <td>184674.883600</td>\n",
       "      <td>7681.254190</td>\n",
       "      <td>11215.300000</td>\n",
       "      <td>11215.300000</td>\n",
       "      <td>1.184072e+06</td>\n",
       "      <td>1.425148e+06</td>\n",
       "    </tr>\n",
       "    <tr>\n",
       "      <th>2</th>\n",
       "      <td>2015</td>\n",
       "      <td>1.881746e+06</td>\n",
       "      <td>1.567050e+06</td>\n",
       "      <td>384536.416993</td>\n",
       "      <td>188218.370638</td>\n",
       "      <td>187662.882187</td>\n",
       "      <td>555.145062</td>\n",
       "      <td>0.343389</td>\n",
       "      <td>185724.681378</td>\n",
       "      <td>183206.972481</td>\n",
       "      <td>...</td>\n",
       "      <td>21737.958447</td>\n",
       "      <td>27169.878980</td>\n",
       "      <td>17034.897760</td>\n",
       "      <td>238220.968000</td>\n",
       "      <td>238220.968000</td>\n",
       "      <td>10532.902590</td>\n",
       "      <td>8831.000000</td>\n",
       "      <td>8831.000000</td>\n",
       "      <td>1.558219e+06</td>\n",
       "      <td>1.872915e+06</td>\n",
       "    </tr>\n",
       "    <tr>\n",
       "      <th>3</th>\n",
       "      <td>2016</td>\n",
       "      <td>2.538771e+06</td>\n",
       "      <td>2.113298e+06</td>\n",
       "      <td>436927.294772</td>\n",
       "      <td>174482.658221</td>\n",
       "      <td>173720.300000</td>\n",
       "      <td>762.001858</td>\n",
       "      <td>0.356363</td>\n",
       "      <td>236285.544344</td>\n",
       "      <td>233027.700000</td>\n",
       "      <td>...</td>\n",
       "      <td>32868.872956</td>\n",
       "      <td>37848.948721</td>\n",
       "      <td>23995.093426</td>\n",
       "      <td>318714.949948</td>\n",
       "      <td>318714.949948</td>\n",
       "      <td>12045.313938</td>\n",
       "      <td>14983.000000</td>\n",
       "      <td>14983.000000</td>\n",
       "      <td>2.098315e+06</td>\n",
       "      <td>2.523788e+06</td>\n",
       "    </tr>\n",
       "    <tr>\n",
       "      <th>4</th>\n",
       "      <td>2017</td>\n",
       "      <td>3.227715e+06</td>\n",
       "      <td>2.646993e+06</td>\n",
       "      <td>559755.495021</td>\n",
       "      <td>236284.360693</td>\n",
       "      <td>234116.700000</td>\n",
       "      <td>2166.936361</td>\n",
       "      <td>0.724332</td>\n",
       "      <td>297111.398379</td>\n",
       "      <td>294546.300000</td>\n",
       "      <td>...</td>\n",
       "      <td>44235.781256</td>\n",
       "      <td>59430.506625</td>\n",
       "      <td>35873.031641</td>\n",
       "      <td>422980.641263</td>\n",
       "      <td>422980.641263</td>\n",
       "      <td>18201.884128</td>\n",
       "      <td>24953.096509</td>\n",
       "      <td>24953.096509</td>\n",
       "      <td>2.622040e+06</td>\n",
       "      <td>3.202762e+06</td>\n",
       "    </tr>\n",
       "  </tbody>\n",
       "</table>\n",
       "<p>5 rows × 66 columns</p>\n",
       "</div>"
      ],
      "text/plain": [
       "Clasificación con base en el FMI   Año  Recaudación bruta total  \\\n",
       "0                                 2013             1.049361e+06   \n",
       "1                                 2014             1.436363e+06   \n",
       "2                                 2015             1.881746e+06   \n",
       "3                                 2016             2.538771e+06   \n",
       "4                                 2017             3.227715e+06   \n",
       "\n",
       "Clasificación con base en el FMI  Recaudación bruta de impuestos nacionales  \\\n",
       "0                                                              8.738930e+05   \n",
       "1                                                              1.195287e+06   \n",
       "2                                                              1.567050e+06   \n",
       "3                                                              2.113298e+06   \n",
       "4                                                              2.646993e+06   \n",
       "\n",
       "Clasificación con base en el FMI  Sobre el ingreso, las utilidades y las ganancias de capital  \\\n",
       "0                                                                     185688.231475             \n",
       "1                                                                     269808.745853             \n",
       "2                                                                     384536.416993             \n",
       "3                                                                     436927.294772             \n",
       "4                                                                     559755.495021             \n",
       "\n",
       "Clasificación con base en el FMI  Personas físicas  A las ganancias  \\\n",
       "0                                     79803.262158     79445.519577   \n",
       "1                                    125502.622721    125066.234497   \n",
       "2                                    188218.370638    187662.882187   \n",
       "3                                    174482.658221    173720.300000   \n",
       "4                                    236284.360693    234116.700000   \n",
       "\n",
       "Clasificación con base en el FMI  Premios juegos de azar y concursos deportivos  \\\n",
       "0                                                                    354.119849   \n",
       "1                                                                    436.002338   \n",
       "2                                                                    555.145062   \n",
       "3                                                                    762.001858   \n",
       "4                                                                   2166.936361   \n",
       "\n",
       "Clasificación con base en el FMI     Otros  \\\n",
       "0                                 3.622732   \n",
       "1                                 0.385886   \n",
       "2                                 0.343389   \n",
       "3                                 0.356363   \n",
       "4                                 0.724332   \n",
       "\n",
       "Clasificación con base en el FMI  Compañías, sociedades de capital o empresas  \\\n",
       "0                                                                99345.982582   \n",
       "1                                                               132177.860543   \n",
       "2                                                               185724.681378   \n",
       "3                                                               236285.544344   \n",
       "4                                                               297111.398379   \n",
       "\n",
       "Clasificación con base en el FMI  A las ganancias   ...  \\\n",
       "0                                     97614.172978  ...   \n",
       "1                                    129880.604961  ...   \n",
       "2                                    183206.972481  ...   \n",
       "3                                    233027.700000  ...   \n",
       "4                                    294546.300000  ...   \n",
       "\n",
       "Clasificación con base en el FMI  Impuestos permanentes sobre la propiedad inmueble  \\\n",
       "0                                                                      14096.554270   \n",
       "1                                                                      17428.513740   \n",
       "2                                                                      21737.958447   \n",
       "3                                                                      32868.872956   \n",
       "4                                                                      44235.781256   \n",
       "\n",
       "Clasificación con base en el FMI  Impuestos sobre las transacciones financieras y de capital  \\\n",
       "0                                                                      14862.022220            \n",
       "1                                                                      19285.433890            \n",
       "2                                                                      27169.878980            \n",
       "3                                                                      37848.948721            \n",
       "4                                                                      59430.506625            \n",
       "\n",
       "Clasificación con base en el FMI  Otros impuestos permanentes sobre la propiedad  \\\n",
       "0                                                                    9059.039950   \n",
       "1                                                                   12005.539680   \n",
       "2                                                                   17034.897760   \n",
       "3                                                                   23995.093426   \n",
       "4                                                                   35873.031641   \n",
       "\n",
       "Clasificación con base en el FMI  Internos sobre bienes y servicios  \\\n",
       "0                                                     132623.514030   \n",
       "1                                                     184674.883600   \n",
       "2                                                     238220.968000   \n",
       "3                                                     318714.949948   \n",
       "4                                                     422980.641263   \n",
       "\n",
       "Clasificación con base en el FMI  Impuestos generales sobre los bienes o servicios    \\\n",
       "0                                                                     132623.514030    \n",
       "1                                                                     184674.883600    \n",
       "2                                                                     238220.968000    \n",
       "3                                                                     318714.949948    \n",
       "4                                                                     422980.641263    \n",
       "\n",
       "Clasificación con base en el FMI         Otros   Deducciones  \\\n",
       "0                                  4827.047060   5393.900000   \n",
       "1                                  7681.254190  11215.300000   \n",
       "2                                 10532.902590   8831.000000   \n",
       "3                                 12045.313938  14983.000000   \n",
       "4                                 18201.884128  24953.096509   \n",
       "\n",
       "Clasificación con base en el FMI  Reintegros a la exportación  \\\n",
       "0                                                 5393.900000   \n",
       "1                                                11215.300000   \n",
       "2                                                 8831.000000   \n",
       "3                                                14983.000000   \n",
       "4                                                24953.096509   \n",
       "\n",
       "Clasificación con base en el FMI  Recaudación neta de impuestos nacionales  \\\n",
       "0                                                             8.684991e+05   \n",
       "1                                                             1.184072e+06   \n",
       "2                                                             1.558219e+06   \n",
       "3                                                             2.098315e+06   \n",
       "4                                                             2.622040e+06   \n",
       "\n",
       "Clasificación con base en el FMI  Recaudación neta total  \n",
       "0                                           1.043967e+06  \n",
       "1                                           1.425148e+06  \n",
       "2                                           1.872915e+06  \n",
       "3                                           2.523788e+06  \n",
       "4                                           3.202762e+06  \n",
       "\n",
       "[5 rows x 66 columns]"
      ]
     },
     "execution_count": 108,
     "metadata": {},
     "output_type": "execute_result"
    }
   ],
   "source": [
    "df_recursos = (\n",
    "    pd.read_excel(\"./data/crudo/070301_2021.xlsx\", header=2)\n",
    "    .dropna(axis=0, thresh=2)\n",
    "    .pipe(lambda df: pd.DataFrame(df).set_index(df.columns[0]).astype(str))\n",
    "    .T\n",
    "    .drop(np.nan, axis=1)\n",
    "    .astype(float)\n",
    "    .reset_index().rename({\"index\":\"Año\"}, axis=1))\n",
    "df_recursos[\"Año\"] = df_recursos[\"Año\"].astype(str)\n",
    "df_recursos.head(5)\n",
    "#Guardar la dataframe para exportarla después"
   ]
  },
  {
   "cell_type": "code",
   "execution_count": 107,
   "metadata": {},
   "outputs": [
    {
     "data": {
      "text/html": [
       "<div>\n",
       "<style scoped>\n",
       "    .dataframe tbody tr th:only-of-type {\n",
       "        vertical-align: middle;\n",
       "    }\n",
       "\n",
       "    .dataframe tbody tr th {\n",
       "        vertical-align: top;\n",
       "    }\n",
       "\n",
       "    .dataframe thead th {\n",
       "        text-align: right;\n",
       "    }\n",
       "</style>\n",
       "<table border=\"1\" class=\"dataframe\">\n",
       "  <thead>\n",
       "    <tr style=\"text-align: right;\">\n",
       "      <th></th>\n",
       "      <th>Año</th>\n",
       "      <th>Producto Interno Bruto</th>\n",
       "      <th>Importaciones FOB (bienes y servicios reales)</th>\n",
       "      <th>Oferta Global</th>\n",
       "      <th>Demanda Global</th>\n",
       "      <th>Consumo privado (5)</th>\n",
       "      <th>Consumo público (5)</th>\n",
       "      <th>Exportaciones FOB (bienes y servicios reales)</th>\n",
       "      <th>Formación bruta de capital fijo</th>\n",
       "      <th>Variación de existencias (3)</th>\n",
       "      <th>Objetos valiosos</th>\n",
       "      <th>Discrepancia estadística (4)</th>\n",
       "    </tr>\n",
       "  </thead>\n",
       "  <tbody>\n",
       "    <tr>\n",
       "      <th>4</th>\n",
       "      <td>2004</td>\n",
       "      <td>4.851152e+05</td>\n",
       "      <td>81717.784031</td>\n",
       "      <td>5.668330e+05</td>\n",
       "      <td>5.668330e+05</td>\n",
       "      <td>312081.885590</td>\n",
       "      <td>53918.788365</td>\n",
       "      <td>115688.425447</td>\n",
       "      <td>77103.177113</td>\n",
       "      <td>8040.702240</td>\n",
       "      <td>NaN</td>\n",
       "      <td>NaN</td>\n",
       "    </tr>\n",
       "    <tr>\n",
       "      <th>9</th>\n",
       "      <td>2005</td>\n",
       "      <td>5.825382e+05</td>\n",
       "      <td>100810.527442</td>\n",
       "      <td>6.833487e+05</td>\n",
       "      <td>6.833487e+05</td>\n",
       "      <td>367170.269355</td>\n",
       "      <td>70730.976614</td>\n",
       "      <td>135416.105623</td>\n",
       "      <td>101077.054147</td>\n",
       "      <td>8954.294638</td>\n",
       "      <td>NaN</td>\n",
       "      <td>NaN</td>\n",
       "    </tr>\n",
       "    <tr>\n",
       "      <th>14</th>\n",
       "      <td>2006</td>\n",
       "      <td>7.159043e+05</td>\n",
       "      <td>124615.919275</td>\n",
       "      <td>8.405202e+05</td>\n",
       "      <td>8.405202e+05</td>\n",
       "      <td>452953.978939</td>\n",
       "      <td>88982.715643</td>\n",
       "      <td>164849.090287</td>\n",
       "      <td>131233.748765</td>\n",
       "      <td>2500.657376</td>\n",
       "      <td>NaN</td>\n",
       "      <td>NaN</td>\n",
       "    </tr>\n",
       "    <tr>\n",
       "      <th>19</th>\n",
       "      <td>2007</td>\n",
       "      <td>8.969802e+05</td>\n",
       "      <td>163989.685503</td>\n",
       "      <td>1.060970e+06</td>\n",
       "      <td>1.060970e+06</td>\n",
       "      <td>560892.761804</td>\n",
       "      <td>116511.660062</td>\n",
       "      <td>203280.377155</td>\n",
       "      <td>175055.360780</td>\n",
       "      <td>5229.699774</td>\n",
       "      <td>NaN</td>\n",
       "      <td>NaN</td>\n",
       "    </tr>\n",
       "    <tr>\n",
       "      <th>24</th>\n",
       "      <td>2008</td>\n",
       "      <td>1.149646e+06</td>\n",
       "      <td>210865.476185</td>\n",
       "      <td>1.360512e+06</td>\n",
       "      <td>1.360512e+06</td>\n",
       "      <td>725134.483129</td>\n",
       "      <td>156737.152176</td>\n",
       "      <td>253622.278754</td>\n",
       "      <td>218549.572519</td>\n",
       "      <td>6468.080190</td>\n",
       "      <td>NaN</td>\n",
       "      <td>NaN</td>\n",
       "    </tr>\n",
       "  </tbody>\n",
       "</table>\n",
       "</div>"
      ],
      "text/plain": [
       "     Año  Producto Interno Bruto  \\\n",
       "4   2004            4.851152e+05   \n",
       "9   2005            5.825382e+05   \n",
       "14  2006            7.159043e+05   \n",
       "19  2007            8.969802e+05   \n",
       "24  2008            1.149646e+06   \n",
       "\n",
       "    Importaciones FOB (bienes y servicios reales)  Oferta Global  \\\n",
       "4                                    81717.784031   5.668330e+05   \n",
       "9                                   100810.527442   6.833487e+05   \n",
       "14                                  124615.919275   8.405202e+05   \n",
       "19                                  163989.685503   1.060970e+06   \n",
       "24                                  210865.476185   1.360512e+06   \n",
       "\n",
       "    Demanda Global  Consumo privado (5)  Consumo público (5)  \\\n",
       "4     5.668330e+05        312081.885590         53918.788365   \n",
       "9     6.833487e+05        367170.269355         70730.976614   \n",
       "14    8.405202e+05        452953.978939         88982.715643   \n",
       "19    1.060970e+06        560892.761804        116511.660062   \n",
       "24    1.360512e+06        725134.483129        156737.152176   \n",
       "\n",
       "    Exportaciones FOB (bienes y servicios reales)  \\\n",
       "4                                   115688.425447   \n",
       "9                                   135416.105623   \n",
       "14                                  164849.090287   \n",
       "19                                  203280.377155   \n",
       "24                                  253622.278754   \n",
       "\n",
       "    Formación bruta de capital fijo  Variación de existencias (3)  \\\n",
       "4                      77103.177113                   8040.702240   \n",
       "9                     101077.054147                   8954.294638   \n",
       "14                    131233.748765                   2500.657376   \n",
       "19                    175055.360780                   5229.699774   \n",
       "24                    218549.572519                   6468.080190   \n",
       "\n",
       "    Objetos valiosos  Discrepancia estadística (4)  \n",
       "4                NaN                           NaN  \n",
       "9                NaN                           NaN  \n",
       "14               NaN                           NaN  \n",
       "19               NaN                           NaN  \n",
       "24               NaN                           NaN  "
      ]
     },
     "execution_count": 107,
     "metadata": {},
     "output_type": "execute_result"
    }
   ],
   "source": [
    "df_pbi = pd.read_excel(\"./data/crudo/sh_oferta_demanda_09_23.xls\",sheet_name=8)\n",
    "df_pbi = (df_pbi\n",
    "            .dropna(axis=0, thresh=2)\n",
    "            .dropna(axis=1, thresh=2)\n",
    "                .set_index(\"Cuadro 8\")\n",
    "                .T\n",
    "              .reset_index(drop=True)\n",
    ")\n",
    "df_pbi.columns = ['Año', 'Trimestre'] + list(df_pbi.columns[2:])\n",
    "df_pbi[\"Año\"]= (\n",
    "  df_pbi[\"Año\"]\n",
    "  .ffill()\n",
    "  .astype(str)\n",
    "  .str[:4])\n",
    "df_pbi = df_pbi[df_pbi[\"Trimestre\"] == \"Total\"]\n",
    "df_pbi = (\n",
    "  df_pbi\n",
    "  .drop(\"Trimestre\", axis=1)\n",
    "  .astype(float))\n",
    "df_pbi[\"Año\"] = df_pbi[\"Año\"].astype(int).astype(str)\n",
    "df_pbi.head(5)"
   ]
  },
  {
   "cell_type": "code",
   "execution_count": 67,
   "metadata": {},
   "outputs": [
    {
     "data": {
      "text/plain": [
       "Año                                               object\n",
       "Producto Interno Bruto                           float64\n",
       "Importaciones FOB (bienes y servicios reales)    float64\n",
       "Oferta Global                                    float64\n",
       "Demanda Global                                   float64\n",
       "Consumo privado (5)                              float64\n",
       "Consumo público (5)                              float64\n",
       "Exportaciones FOB (bienes y servicios reales)    float64\n",
       "Formación bruta de capital fijo                  float64\n",
       "Variación de existencias (3)                     float64\n",
       "Objetos valiosos                                 float64\n",
       "Discrepancia estadística (4)                     float64\n",
       "dtype: object"
      ]
     },
     "execution_count": 67,
     "metadata": {},
     "output_type": "execute_result"
    }
   ],
   "source": [
    "df_pbi.dtypes"
   ]
  },
  {
   "cell_type": "code",
   "execution_count": 68,
   "metadata": {},
   "outputs": [],
   "source": [
    "with pd.ExcelWriter(\"./data/procesada/cuadros_limpios.xlsx\") as writer:\n",
    "    df_pbi.to_excel(writer, sheet_name=\"Cuadro PIB\", index=False)\n",
    "    df_recursos.to_excel(writer, sheet_name=\"Cuadro recaudación\",index=False)"
   ]
  },
  {
   "cell_type": "code",
   "execution_count": 105,
   "metadata": {},
   "outputs": [
    {
     "data": {
      "text/html": [
       "<div>\n",
       "<style scoped>\n",
       "    .dataframe tbody tr th:only-of-type {\n",
       "        vertical-align: middle;\n",
       "    }\n",
       "\n",
       "    .dataframe tbody tr th {\n",
       "        vertical-align: top;\n",
       "    }\n",
       "\n",
       "    .dataframe thead th {\n",
       "        text-align: right;\n",
       "    }\n",
       "</style>\n",
       "<table border=\"1\" class=\"dataframe\">\n",
       "  <thead>\n",
       "    <tr style=\"text-align: right;\">\n",
       "      <th>Top 5 fuentes de recaudación</th>\n",
       "      <th>Recaudación bruta total</th>\n",
       "      <th>Recaudación bruta de impuestos nacionales</th>\n",
       "      <th>Internos sobre bienes y servicios</th>\n",
       "      <th>Impuestos generales sobre los bienes y servicios</th>\n",
       "      <th>Al valor agregado</th>\n",
       "      <th>Aportes y contribuciones a la seguridad social</th>\n",
       "    </tr>\n",
       "    <tr>\n",
       "      <th>Año</th>\n",
       "      <th></th>\n",
       "      <th></th>\n",
       "      <th></th>\n",
       "      <th></th>\n",
       "      <th></th>\n",
       "      <th></th>\n",
       "    </tr>\n",
       "  </thead>\n",
       "  <tbody>\n",
       "    <tr>\n",
       "      <th>2013</th>\n",
       "      <td>1.049361e+06</td>\n",
       "      <td>8.738930e+05</td>\n",
       "      <td>3.586120e+05</td>\n",
       "      <td>306255.188138</td>\n",
       "      <td>249006.251151</td>\n",
       "      <td>236071.733407</td>\n",
       "    </tr>\n",
       "    <tr>\n",
       "      <th>2014</th>\n",
       "      <td>1.436363e+06</td>\n",
       "      <td>1.195287e+06</td>\n",
       "      <td>4.823649e+05</td>\n",
       "      <td>408854.284129</td>\n",
       "      <td>331202.807353</td>\n",
       "      <td>307656.379449</td>\n",
       "    </tr>\n",
       "    <tr>\n",
       "      <th>2015</th>\n",
       "      <td>1.881746e+06</td>\n",
       "      <td>1.567050e+06</td>\n",
       "      <td>6.285818e+05</td>\n",
       "      <td>531812.333353</td>\n",
       "      <td>433076.240984</td>\n",
       "      <td>415410.047973</td>\n",
       "    </tr>\n",
       "    <tr>\n",
       "      <th>2016</th>\n",
       "      <td>2.538771e+06</td>\n",
       "      <td>2.113298e+06</td>\n",
       "      <td>8.525105e+05</td>\n",
       "      <td>716938.386885</td>\n",
       "      <td>583216.936346</td>\n",
       "      <td>556067.085042</td>\n",
       "    </tr>\n",
       "    <tr>\n",
       "      <th>2017</th>\n",
       "      <td>3.227715e+06</td>\n",
       "      <td>2.646993e+06</td>\n",
       "      <td>1.132876e+06</td>\n",
       "      <td>942265.901870</td>\n",
       "      <td>765336.286871</td>\n",
       "      <td>733526.784712</td>\n",
       "    </tr>\n",
       "  </tbody>\n",
       "</table>\n",
       "</div>"
      ],
      "text/plain": [
       "Top 5 fuentes de recaudación  Recaudación bruta total  \\\n",
       "Año                                                     \n",
       "2013                                     1.049361e+06   \n",
       "2014                                     1.436363e+06   \n",
       "2015                                     1.881746e+06   \n",
       "2016                                     2.538771e+06   \n",
       "2017                                     3.227715e+06   \n",
       "\n",
       "Top 5 fuentes de recaudación  Recaudación bruta de impuestos nacionales  \\\n",
       "Año                                                                       \n",
       "2013                                                       8.738930e+05   \n",
       "2014                                                       1.195287e+06   \n",
       "2015                                                       1.567050e+06   \n",
       "2016                                                       2.113298e+06   \n",
       "2017                                                       2.646993e+06   \n",
       "\n",
       "Top 5 fuentes de recaudación  Internos sobre bienes y servicios  \\\n",
       "Año                                                               \n",
       "2013                                               3.586120e+05   \n",
       "2014                                               4.823649e+05   \n",
       "2015                                               6.285818e+05   \n",
       "2016                                               8.525105e+05   \n",
       "2017                                               1.132876e+06   \n",
       "\n",
       "Top 5 fuentes de recaudación  Impuestos generales sobre los bienes y servicios  \\\n",
       "Año                                                                              \n",
       "2013                                                             306255.188138   \n",
       "2014                                                             408854.284129   \n",
       "2015                                                             531812.333353   \n",
       "2016                                                             716938.386885   \n",
       "2017                                                             942265.901870   \n",
       "\n",
       "Top 5 fuentes de recaudación  Al valor agregado  \\\n",
       "Año                                               \n",
       "2013                              249006.251151   \n",
       "2014                              331202.807353   \n",
       "2015                              433076.240984   \n",
       "2016                              583216.936346   \n",
       "2017                              765336.286871   \n",
       "\n",
       "Top 5 fuentes de recaudación  Aportes y contribuciones a la seguridad social  \n",
       "Año                                                                           \n",
       "2013                                                           236071.733407  \n",
       "2014                                                           307656.379449  \n",
       "2015                                                           415410.047973  \n",
       "2016                                                           556067.085042  \n",
       "2017                                                           733526.784712  "
      ]
     },
     "execution_count": 105,
     "metadata": {},
     "output_type": "execute_result"
    }
   ],
   "source": [
    "fuentes_principales_5 = (\n",
    "df_recursos\n",
    " .sum(numeric_only=True)\n",
    " .sort_values(ascending=False)\n",
    " .drop([\"Recaudación neta total\",\"Recaudación neta de impuestos nacionales\"])\n",
    " .head(6)\n",
    " ).index\n",
    "\n",
    "#fuentes_principales_5\n",
    "df_recursos_top_5=df_recursos[[\"Año\", *fuentes_principales_5]]\n",
    "df_recursos_top_5.columns.values[4] = \"borrar\"\n",
    "df_recursos_top_5 = df_recursos_top_5.drop(\"borrar\",axis=1).set_index(\"Año\")\n",
    "df_recursos_top_5.columns.name = \"Top 5 fuentes de recaudación\"\n",
    "\n",
    "df_recursos_top_5.head(5)"
   ]
  },
  {
   "cell_type": "code",
   "execution_count": 104,
   "metadata": {},
   "outputs": [
    {
     "data": {
      "text/html": [
       "<div>\n",
       "<style scoped>\n",
       "    .dataframe tbody tr th:only-of-type {\n",
       "        vertical-align: middle;\n",
       "    }\n",
       "\n",
       "    .dataframe tbody tr th {\n",
       "        vertical-align: top;\n",
       "    }\n",
       "\n",
       "    .dataframe thead th {\n",
       "        text-align: right;\n",
       "    }\n",
       "</style>\n",
       "<table border=\"1\" class=\"dataframe\">\n",
       "  <thead>\n",
       "    <tr style=\"text-align: right;\">\n",
       "      <th></th>\n",
       "      <th>Producto Interno Bruto</th>\n",
       "    </tr>\n",
       "    <tr>\n",
       "      <th>Año</th>\n",
       "      <th></th>\n",
       "    </tr>\n",
       "  </thead>\n",
       "  <tbody>\n",
       "    <tr>\n",
       "      <th>2004</th>\n",
       "      <td>4.851152e+05</td>\n",
       "    </tr>\n",
       "    <tr>\n",
       "      <th>2005</th>\n",
       "      <td>5.825382e+05</td>\n",
       "    </tr>\n",
       "    <tr>\n",
       "      <th>2006</th>\n",
       "      <td>7.159043e+05</td>\n",
       "    </tr>\n",
       "    <tr>\n",
       "      <th>2007</th>\n",
       "      <td>8.969802e+05</td>\n",
       "    </tr>\n",
       "    <tr>\n",
       "      <th>2008</th>\n",
       "      <td>1.149646e+06</td>\n",
       "    </tr>\n",
       "  </tbody>\n",
       "</table>\n",
       "</div>"
      ],
      "text/plain": [
       "      Producto Interno Bruto\n",
       "Año                         \n",
       "2004            4.851152e+05\n",
       "2005            5.825382e+05\n",
       "2006            7.159043e+05\n",
       "2007            8.969802e+05\n",
       "2008            1.149646e+06"
      ]
     },
     "execution_count": 104,
     "metadata": {},
     "output_type": "execute_result"
    }
   ],
   "source": [
    "df_pbi_seleccion = df_pbi[[\"Año\", \"Producto Interno Bruto\"]].set_index(\"Año\")\n",
    "df_pbi_seleccion.head(5)"
   ]
  },
  {
   "cell_type": "code",
   "execution_count": 106,
   "metadata": {},
   "outputs": [
    {
     "data": {
      "text/html": [
       "<div>\n",
       "<style scoped>\n",
       "    .dataframe tbody tr th:only-of-type {\n",
       "        vertical-align: middle;\n",
       "    }\n",
       "\n",
       "    .dataframe tbody tr th {\n",
       "        vertical-align: top;\n",
       "    }\n",
       "\n",
       "    .dataframe thead th {\n",
       "        text-align: right;\n",
       "    }\n",
       "</style>\n",
       "<table border=\"1\" class=\"dataframe\">\n",
       "  <thead>\n",
       "    <tr style=\"text-align: right;\">\n",
       "      <th></th>\n",
       "      <th>Producto Interno Bruto</th>\n",
       "      <th>Recaudación bruta total</th>\n",
       "      <th>Recaudación bruta de impuestos nacionales</th>\n",
       "      <th>Internos sobre bienes y servicios</th>\n",
       "      <th>Impuestos generales sobre los bienes y servicios</th>\n",
       "      <th>Al valor agregado</th>\n",
       "      <th>Aportes y contribuciones a la seguridad social</th>\n",
       "    </tr>\n",
       "    <tr>\n",
       "      <th>Año</th>\n",
       "      <th></th>\n",
       "      <th></th>\n",
       "      <th></th>\n",
       "      <th></th>\n",
       "      <th></th>\n",
       "      <th></th>\n",
       "      <th></th>\n",
       "    </tr>\n",
       "  </thead>\n",
       "  <tbody>\n",
       "    <tr>\n",
       "      <th>2013</th>\n",
       "      <td>3.348308e+06</td>\n",
       "      <td>1.049361e+06</td>\n",
       "      <td>8.738930e+05</td>\n",
       "      <td>3.586120e+05</td>\n",
       "      <td>306255.188138</td>\n",
       "      <td>249006.251151</td>\n",
       "      <td>236071.733407</td>\n",
       "    </tr>\n",
       "    <tr>\n",
       "      <th>2014</th>\n",
       "      <td>4.579086e+06</td>\n",
       "      <td>1.436363e+06</td>\n",
       "      <td>1.195287e+06</td>\n",
       "      <td>4.823649e+05</td>\n",
       "      <td>408854.284129</td>\n",
       "      <td>331202.807353</td>\n",
       "      <td>307656.379449</td>\n",
       "    </tr>\n",
       "    <tr>\n",
       "      <th>2015</th>\n",
       "      <td>5.954511e+06</td>\n",
       "      <td>1.881746e+06</td>\n",
       "      <td>1.567050e+06</td>\n",
       "      <td>6.285818e+05</td>\n",
       "      <td>531812.333353</td>\n",
       "      <td>433076.240984</td>\n",
       "      <td>415410.047973</td>\n",
       "    </tr>\n",
       "    <tr>\n",
       "      <th>2016</th>\n",
       "      <td>8.228160e+06</td>\n",
       "      <td>2.538771e+06</td>\n",
       "      <td>2.113298e+06</td>\n",
       "      <td>8.525105e+05</td>\n",
       "      <td>716938.386885</td>\n",
       "      <td>583216.936346</td>\n",
       "      <td>556067.085042</td>\n",
       "    </tr>\n",
       "    <tr>\n",
       "      <th>2017</th>\n",
       "      <td>1.066023e+07</td>\n",
       "      <td>3.227715e+06</td>\n",
       "      <td>2.646993e+06</td>\n",
       "      <td>1.132876e+06</td>\n",
       "      <td>942265.901870</td>\n",
       "      <td>765336.286871</td>\n",
       "      <td>733526.784712</td>\n",
       "    </tr>\n",
       "  </tbody>\n",
       "</table>\n",
       "</div>"
      ],
      "text/plain": [
       "      Producto Interno Bruto  Recaudación bruta total  \\\n",
       "Año                                                     \n",
       "2013            3.348308e+06             1.049361e+06   \n",
       "2014            4.579086e+06             1.436363e+06   \n",
       "2015            5.954511e+06             1.881746e+06   \n",
       "2016            8.228160e+06             2.538771e+06   \n",
       "2017            1.066023e+07             3.227715e+06   \n",
       "\n",
       "      Recaudación bruta de impuestos nacionales  \\\n",
       "Año                                               \n",
       "2013                               8.738930e+05   \n",
       "2014                               1.195287e+06   \n",
       "2015                               1.567050e+06   \n",
       "2016                               2.113298e+06   \n",
       "2017                               2.646993e+06   \n",
       "\n",
       "      Internos sobre bienes y servicios  \\\n",
       "Año                                       \n",
       "2013                       3.586120e+05   \n",
       "2014                       4.823649e+05   \n",
       "2015                       6.285818e+05   \n",
       "2016                       8.525105e+05   \n",
       "2017                       1.132876e+06   \n",
       "\n",
       "      Impuestos generales sobre los bienes y servicios  Al valor agregado  \\\n",
       "Año                                                                         \n",
       "2013                                     306255.188138      249006.251151   \n",
       "2014                                     408854.284129      331202.807353   \n",
       "2015                                     531812.333353      433076.240984   \n",
       "2016                                     716938.386885      583216.936346   \n",
       "2017                                     942265.901870      765336.286871   \n",
       "\n",
       "      Aportes y contribuciones a la seguridad social  \n",
       "Año                                                   \n",
       "2013                                   236071.733407  \n",
       "2014                                   307656.379449  \n",
       "2015                                   415410.047973  \n",
       "2016                                   556067.085042  \n",
       "2017                                   733526.784712  "
      ]
     },
     "execution_count": 106,
     "metadata": {},
     "output_type": "execute_result"
    }
   ],
   "source": [
    "df_cruza = df_pbi_seleccion.merge(df_recursos_top_5, left_index=True, right_index=True)\n",
    "df_cruza.head(5)"
   ]
  },
  {
   "cell_type": "code",
   "execution_count": 95,
   "metadata": {},
   "outputs": [
    {
     "data": {
      "text/html": [
       "<div>\n",
       "<style scoped>\n",
       "    .dataframe tbody tr th:only-of-type {\n",
       "        vertical-align: middle;\n",
       "    }\n",
       "\n",
       "    .dataframe tbody tr th {\n",
       "        vertical-align: top;\n",
       "    }\n",
       "\n",
       "    .dataframe thead th {\n",
       "        text-align: right;\n",
       "    }\n",
       "</style>\n",
       "<table border=\"1\" class=\"dataframe\">\n",
       "  <thead>\n",
       "    <tr style=\"text-align: right;\">\n",
       "      <th></th>\n",
       "      <th>Producto Interno Bruto</th>\n",
       "      <th>Recaudación bruta total</th>\n",
       "      <th>Recaudación bruta de impuestos nacionales</th>\n",
       "      <th>Internos sobre bienes y servicios</th>\n",
       "      <th>Impuestos generales sobre los bienes y servicios</th>\n",
       "      <th>Al valor agregado</th>\n",
       "      <th>Aportes y contribuciones a la seguridad social</th>\n",
       "    </tr>\n",
       "    <tr>\n",
       "      <th>Año</th>\n",
       "      <th></th>\n",
       "      <th></th>\n",
       "      <th></th>\n",
       "      <th></th>\n",
       "      <th></th>\n",
       "      <th></th>\n",
       "      <th></th>\n",
       "    </tr>\n",
       "  </thead>\n",
       "  <tbody>\n",
       "    <tr>\n",
       "      <th>2013</th>\n",
       "      <td>1.0</td>\n",
       "      <td>0.313400</td>\n",
       "      <td>0.260995</td>\n",
       "      <td>0.107102</td>\n",
       "      <td>0.091466</td>\n",
       "      <td>0.074368</td>\n",
       "      <td>0.070505</td>\n",
       "    </tr>\n",
       "    <tr>\n",
       "      <th>2014</th>\n",
       "      <td>1.0</td>\n",
       "      <td>0.313679</td>\n",
       "      <td>0.261032</td>\n",
       "      <td>0.105341</td>\n",
       "      <td>0.089287</td>\n",
       "      <td>0.072329</td>\n",
       "      <td>0.067187</td>\n",
       "    </tr>\n",
       "    <tr>\n",
       "      <th>2015</th>\n",
       "      <td>1.0</td>\n",
       "      <td>0.316020</td>\n",
       "      <td>0.263170</td>\n",
       "      <td>0.105564</td>\n",
       "      <td>0.089313</td>\n",
       "      <td>0.072731</td>\n",
       "      <td>0.069764</td>\n",
       "    </tr>\n",
       "    <tr>\n",
       "      <th>2016</th>\n",
       "      <td>1.0</td>\n",
       "      <td>0.308547</td>\n",
       "      <td>0.256837</td>\n",
       "      <td>0.103609</td>\n",
       "      <td>0.087132</td>\n",
       "      <td>0.070881</td>\n",
       "      <td>0.067581</td>\n",
       "    </tr>\n",
       "    <tr>\n",
       "      <th>2017</th>\n",
       "      <td>1.0</td>\n",
       "      <td>0.302781</td>\n",
       "      <td>0.248305</td>\n",
       "      <td>0.106271</td>\n",
       "      <td>0.088391</td>\n",
       "      <td>0.071794</td>\n",
       "      <td>0.068810</td>\n",
       "    </tr>\n",
       "    <tr>\n",
       "      <th>2018</th>\n",
       "      <td>1.0</td>\n",
       "      <td>0.287479</td>\n",
       "      <td>0.235382</td>\n",
       "      <td>0.105739</td>\n",
       "      <td>0.091206</td>\n",
       "      <td>0.074913</td>\n",
       "      <td>0.062017</td>\n",
       "    </tr>\n",
       "    <tr>\n",
       "      <th>2019</th>\n",
       "      <td>1.0</td>\n",
       "      <td>0.286391</td>\n",
       "      <td>0.238036</td>\n",
       "      <td>0.101140</td>\n",
       "      <td>0.087563</td>\n",
       "      <td>0.071090</td>\n",
       "      <td>0.056853</td>\n",
       "    </tr>\n",
       "    <tr>\n",
       "      <th>2020</th>\n",
       "      <td>1.0</td>\n",
       "      <td>0.298637</td>\n",
       "      <td>0.248377</td>\n",
       "      <td>0.101757</td>\n",
       "      <td>0.086836</td>\n",
       "      <td>0.070026</td>\n",
       "      <td>0.056893</td>\n",
       "    </tr>\n",
       "    <tr>\n",
       "      <th>2021</th>\n",
       "      <td>1.0</td>\n",
       "      <td>0.291838</td>\n",
       "      <td>0.241806</td>\n",
       "      <td>0.101114</td>\n",
       "      <td>0.086389</td>\n",
       "      <td>0.069986</td>\n",
       "      <td>0.051744</td>\n",
       "    </tr>\n",
       "  </tbody>\n",
       "</table>\n",
       "</div>"
      ],
      "text/plain": [
       "      Producto Interno Bruto  Recaudación bruta total  \\\n",
       "Año                                                     \n",
       "2013                     1.0                 0.313400   \n",
       "2014                     1.0                 0.313679   \n",
       "2015                     1.0                 0.316020   \n",
       "2016                     1.0                 0.308547   \n",
       "2017                     1.0                 0.302781   \n",
       "2018                     1.0                 0.287479   \n",
       "2019                     1.0                 0.286391   \n",
       "2020                     1.0                 0.298637   \n",
       "2021                     1.0                 0.291838   \n",
       "\n",
       "      Recaudación bruta de impuestos nacionales  \\\n",
       "Año                                               \n",
       "2013                                   0.260995   \n",
       "2014                                   0.261032   \n",
       "2015                                   0.263170   \n",
       "2016                                   0.256837   \n",
       "2017                                   0.248305   \n",
       "2018                                   0.235382   \n",
       "2019                                   0.238036   \n",
       "2020                                   0.248377   \n",
       "2021                                   0.241806   \n",
       "\n",
       "      Internos sobre bienes y servicios  \\\n",
       "Año                                       \n",
       "2013                           0.107102   \n",
       "2014                           0.105341   \n",
       "2015                           0.105564   \n",
       "2016                           0.103609   \n",
       "2017                           0.106271   \n",
       "2018                           0.105739   \n",
       "2019                           0.101140   \n",
       "2020                           0.101757   \n",
       "2021                           0.101114   \n",
       "\n",
       "      Impuestos generales sobre los bienes y servicios  Al valor agregado  \\\n",
       "Año                                                                         \n",
       "2013                                          0.091466           0.074368   \n",
       "2014                                          0.089287           0.072329   \n",
       "2015                                          0.089313           0.072731   \n",
       "2016                                          0.087132           0.070881   \n",
       "2017                                          0.088391           0.071794   \n",
       "2018                                          0.091206           0.074913   \n",
       "2019                                          0.087563           0.071090   \n",
       "2020                                          0.086836           0.070026   \n",
       "2021                                          0.086389           0.069986   \n",
       "\n",
       "      Aportes y contribuciones a la seguridad social  \n",
       "Año                                                   \n",
       "2013                                        0.070505  \n",
       "2014                                        0.067187  \n",
       "2015                                        0.069764  \n",
       "2016                                        0.067581  \n",
       "2017                                        0.068810  \n",
       "2018                                        0.062017  \n",
       "2019                                        0.056853  \n",
       "2020                                        0.056893  \n",
       "2021                                        0.051744  "
      ]
     },
     "execution_count": 95,
     "metadata": {},
     "output_type": "execute_result"
    }
   ],
   "source": [
    "\n",
    "\n",
    "def divide_por_pbi(fila: pd.Series):\n",
    "    pib = fila[\"Producto Interno Bruto\"]\n",
    "    fila = fila / pib\n",
    "    return fila\n",
    "top_5_x_pbi = df_cruza.astype(float).apply(divide_por_pbi,axis=1)\n",
    "\n",
    "top_5_x_pbi"
   ]
  },
  {
   "cell_type": "code",
   "execution_count": 100,
   "metadata": {},
   "outputs": [
    {
     "data": {
      "application/vnd.plotly.v1+json": {
       "config": {
        "plotlyServerURL": "https://plot.ly"
       },
       "data": [
        {
         "name": "Recaudación bruta de impuestos nacionales",
         "type": "scatter",
         "x": [
          "2013",
          "2014",
          "2015",
          "2016",
          "2017",
          "2018",
          "2019",
          "2020",
          "2021"
         ],
         "y": [
          0.2609953652952781,
          0.26103183891584686,
          0.26317014964370744,
          0.25683726099059073,
          0.2483054843641836,
          0.23538229047696652,
          0.23803604297551634,
          0.24837665148219326,
          0.24180600200679048
         ]
        },
        {
         "name": "Internos sobre bienes y servicios",
         "type": "scatter",
         "x": [
          "2013",
          "2014",
          "2015",
          "2016",
          "2017",
          "2018",
          "2019",
          "2020",
          "2021"
         ],
         "y": [
          0.10710244580622577,
          0.10534085315544135,
          0.10556396237275736,
          0.1036088879042614,
          0.10627128800924411,
          0.10573941572327335,
          0.10114015520188598,
          0.10175726271233333,
          0.10111436897301719
         ]
        },
        {
         "name": "Impuestos generales sobre los bienes y servicios",
         "type": "scatter",
         "x": [
          "2013",
          "2014",
          "2015",
          "2016",
          "2017",
          "2018",
          "2019",
          "2020",
          "2021"
         ],
         "y": [
          0.09146564279084088,
          0.0892873045286961,
          0.08931251326409662,
          0.08713229027205069,
          0.08839077908403228,
          0.09120602560853117,
          0.087563436882674,
          0.08683638571739602,
          0.08638928840181612
         ]
        },
        {
         "name": "Al valor agregado",
         "type": "scatter",
         "x": [
          "2013",
          "2014",
          "2015",
          "2016",
          "2017",
          "2018",
          "2019",
          "2020",
          "2021"
         ],
         "y": [
          0.07436777466203205,
          0.07232945102647365,
          0.07273078319453062,
          0.07088060608673588,
          0.0717936099816031,
          0.07491315513987504,
          0.07109032969880802,
          0.07002565630860143,
          0.06998645619694305
         ]
        },
        {
         "name": "Aportes y contribuciones a la seguridad social",
         "type": "scatter",
         "x": [
          "2013",
          "2014",
          "2015",
          "2016",
          "2017",
          "2018",
          "2019",
          "2020",
          "2021"
         ],
         "y": [
          0.07050477404841228,
          0.06718728385246552,
          0.0697639244011056,
          0.06758097983168808,
          0.06880966811070029,
          0.062017474421617126,
          0.056853063131120846,
          0.056893163662909814,
          0.051743710253644284
         ]
        }
       ],
       "layout": {
        "separators": ",.",
        "template": {},
        "title": {
         "text": "Máximas 5 fuentes de recaudación"
        },
        "xaxis": {
         "title": {
          "text": "Fecha"
         },
         "type": "category"
        },
        "yaxis": {
         "tickformat": ",.1%",
         "title": {
          "text": "Porcentaje del PIB"
         }
        }
       }
      }
     },
     "metadata": {},
     "output_type": "display_data"
    }
   ],
   "source": [
    "plot_serie_tiempo = go.Figure()\n",
    "\n",
    "for col in top_5_x_pbi.columns[2:]:\n",
    "    plot_serie_tiempo.add_trace(go.Scatter(\n",
    "        x=top_5_x_pbi.index,y=top_5_x_pbi[col], name=col))\n",
    "    \n",
    "plot_serie_tiempo.update_layout(\n",
    "    template=None,\n",
    "    title_text=\"Máximas 5 fuentes de recaudación\",\n",
    "    separators = \",.\",\n",
    "    yaxis=dict(title_text = \"Porcentaje del PIB\",\n",
    "                 tickformat = \",.1%\"),\n",
    "    xaxis=dict(title_text = \"Fecha\", \n",
    "                 type = \"category\") \n",
    ")\n",
    "plot_serie_tiempo"
   ]
  },
  {
   "cell_type": "code",
   "execution_count": 103,
   "metadata": {},
   "outputs": [],
   "source": [
    "with pd.ExcelWriter(\"./out/cuadros_recaudacion.xlsx\") as writer:\n",
    "    for col in top_5_x_pbi.columns[2:]:\n",
    "        (top_5_x_pbi[col]*100).to_excel(writer, col[:30])"
   ]
  },
  {
   "cell_type": "code",
   "execution_count": 155,
   "metadata": {},
   "outputs": [
    {
     "data": {
      "text/html": [
       "<div>\n",
       "<style scoped>\n",
       "    .dataframe tbody tr th:only-of-type {\n",
       "        vertical-align: middle;\n",
       "    }\n",
       "\n",
       "    .dataframe tbody tr th {\n",
       "        vertical-align: top;\n",
       "    }\n",
       "\n",
       "    .dataframe thead th {\n",
       "        text-align: right;\n",
       "    }\n",
       "</style>\n",
       "<table border=\"1\" class=\"dataframe\">\n",
       "  <thead>\n",
       "    <tr style=\"text-align: right;\">\n",
       "      <th>Top 5 fuentes de recaudación</th>\n",
       "      <th>Recaudación bruta total</th>\n",
       "      <th>Recaudación bruta de impuestos nacionales</th>\n",
       "      <th>Internos sobre bienes y servicios</th>\n",
       "      <th>Impuestos generales sobre los bienes y servicios</th>\n",
       "      <th>Al valor agregado</th>\n",
       "      <th>Aportes y contribuciones a la seguridad social</th>\n",
       "    </tr>\n",
       "    <tr>\n",
       "      <th>Año</th>\n",
       "      <th></th>\n",
       "      <th></th>\n",
       "      <th></th>\n",
       "      <th></th>\n",
       "      <th></th>\n",
       "      <th></th>\n",
       "    </tr>\n",
       "  </thead>\n",
       "  <tbody>\n",
       "    <tr>\n",
       "      <th>2013</th>\n",
       "      <td>1.049361e+06</td>\n",
       "      <td>8.738930e+05</td>\n",
       "      <td>3.586120e+05</td>\n",
       "      <td>3.062552e+05</td>\n",
       "      <td>2.490063e+05</td>\n",
       "      <td>2.360717e+05</td>\n",
       "    </tr>\n",
       "    <tr>\n",
       "      <th>2014</th>\n",
       "      <td>1.436363e+06</td>\n",
       "      <td>1.195287e+06</td>\n",
       "      <td>4.823649e+05</td>\n",
       "      <td>4.088543e+05</td>\n",
       "      <td>3.312028e+05</td>\n",
       "      <td>3.076564e+05</td>\n",
       "    </tr>\n",
       "    <tr>\n",
       "      <th>2015</th>\n",
       "      <td>1.881746e+06</td>\n",
       "      <td>1.567050e+06</td>\n",
       "      <td>6.285818e+05</td>\n",
       "      <td>5.318123e+05</td>\n",
       "      <td>4.330762e+05</td>\n",
       "      <td>4.154100e+05</td>\n",
       "    </tr>\n",
       "    <tr>\n",
       "      <th>2016</th>\n",
       "      <td>2.538771e+06</td>\n",
       "      <td>2.113298e+06</td>\n",
       "      <td>8.525105e+05</td>\n",
       "      <td>7.169384e+05</td>\n",
       "      <td>5.832169e+05</td>\n",
       "      <td>5.560671e+05</td>\n",
       "    </tr>\n",
       "    <tr>\n",
       "      <th>2017</th>\n",
       "      <td>3.227715e+06</td>\n",
       "      <td>2.646993e+06</td>\n",
       "      <td>1.132876e+06</td>\n",
       "      <td>9.422659e+05</td>\n",
       "      <td>7.653363e+05</td>\n",
       "      <td>7.335268e+05</td>\n",
       "    </tr>\n",
       "    <tr>\n",
       "      <th>2018</th>\n",
       "      <td>4.238818e+06</td>\n",
       "      <td>3.470667e+06</td>\n",
       "      <td>1.559108e+06</td>\n",
       "      <td>1.344816e+06</td>\n",
       "      <td>1.104580e+06</td>\n",
       "      <td>9.144359e+05</td>\n",
       "    </tr>\n",
       "    <tr>\n",
       "      <th>2019</th>\n",
       "      <td>6.174134e+06</td>\n",
       "      <td>5.131687e+06</td>\n",
       "      <td>2.180424e+06</td>\n",
       "      <td>1.887731e+06</td>\n",
       "      <td>1.532597e+06</td>\n",
       "      <td>1.225664e+06</td>\n",
       "    </tr>\n",
       "    <tr>\n",
       "      <th>2020</th>\n",
       "      <td>8.125855e+06</td>\n",
       "      <td>6.758283e+06</td>\n",
       "      <td>2.768796e+06</td>\n",
       "      <td>2.362802e+06</td>\n",
       "      <td>1.905385e+06</td>\n",
       "      <td>1.548052e+06</td>\n",
       "    </tr>\n",
       "    <tr>\n",
       "      <th>2021</th>\n",
       "      <td>1.352560e+07</td>\n",
       "      <td>1.120680e+07</td>\n",
       "      <td>4.686270e+06</td>\n",
       "      <td>4.003818e+06</td>\n",
       "      <td>3.243608e+06</td>\n",
       "      <td>2.398126e+06</td>\n",
       "    </tr>\n",
       "  </tbody>\n",
       "</table>\n",
       "</div>"
      ],
      "text/plain": [
       "Top 5 fuentes de recaudación  Recaudación bruta total  \\\n",
       "Año                                                     \n",
       "2013                                     1.049361e+06   \n",
       "2014                                     1.436363e+06   \n",
       "2015                                     1.881746e+06   \n",
       "2016                                     2.538771e+06   \n",
       "2017                                     3.227715e+06   \n",
       "2018                                     4.238818e+06   \n",
       "2019                                     6.174134e+06   \n",
       "2020                                     8.125855e+06   \n",
       "2021                                     1.352560e+07   \n",
       "\n",
       "Top 5 fuentes de recaudación  Recaudación bruta de impuestos nacionales  \\\n",
       "Año                                                                       \n",
       "2013                                                       8.738930e+05   \n",
       "2014                                                       1.195287e+06   \n",
       "2015                                                       1.567050e+06   \n",
       "2016                                                       2.113298e+06   \n",
       "2017                                                       2.646993e+06   \n",
       "2018                                                       3.470667e+06   \n",
       "2019                                                       5.131687e+06   \n",
       "2020                                                       6.758283e+06   \n",
       "2021                                                       1.120680e+07   \n",
       "\n",
       "Top 5 fuentes de recaudación  Internos sobre bienes y servicios  \\\n",
       "Año                                                               \n",
       "2013                                               3.586120e+05   \n",
       "2014                                               4.823649e+05   \n",
       "2015                                               6.285818e+05   \n",
       "2016                                               8.525105e+05   \n",
       "2017                                               1.132876e+06   \n",
       "2018                                               1.559108e+06   \n",
       "2019                                               2.180424e+06   \n",
       "2020                                               2.768796e+06   \n",
       "2021                                               4.686270e+06   \n",
       "\n",
       "Top 5 fuentes de recaudación  Impuestos generales sobre los bienes y servicios  \\\n",
       "Año                                                                              \n",
       "2013                                                              3.062552e+05   \n",
       "2014                                                              4.088543e+05   \n",
       "2015                                                              5.318123e+05   \n",
       "2016                                                              7.169384e+05   \n",
       "2017                                                              9.422659e+05   \n",
       "2018                                                              1.344816e+06   \n",
       "2019                                                              1.887731e+06   \n",
       "2020                                                              2.362802e+06   \n",
       "2021                                                              4.003818e+06   \n",
       "\n",
       "Top 5 fuentes de recaudación  Al valor agregado  \\\n",
       "Año                                               \n",
       "2013                               2.490063e+05   \n",
       "2014                               3.312028e+05   \n",
       "2015                               4.330762e+05   \n",
       "2016                               5.832169e+05   \n",
       "2017                               7.653363e+05   \n",
       "2018                               1.104580e+06   \n",
       "2019                               1.532597e+06   \n",
       "2020                               1.905385e+06   \n",
       "2021                               3.243608e+06   \n",
       "\n",
       "Top 5 fuentes de recaudación  Aportes y contribuciones a la seguridad social  \n",
       "Año                                                                           \n",
       "2013                                                            2.360717e+05  \n",
       "2014                                                            3.076564e+05  \n",
       "2015                                                            4.154100e+05  \n",
       "2016                                                            5.560671e+05  \n",
       "2017                                                            7.335268e+05  \n",
       "2018                                                            9.144359e+05  \n",
       "2019                                                            1.225664e+06  \n",
       "2020                                                            1.548052e+06  \n",
       "2021                                                            2.398126e+06  "
      ]
     },
     "execution_count": 155,
     "metadata": {},
     "output_type": "execute_result"
    }
   ],
   "source": [
    "df_recursos_top_5"
   ]
  },
  {
   "cell_type": "code",
   "execution_count": 153,
   "metadata": {},
   "outputs": [],
   "source": [
    "#fuentes_principales_5\n",
    "\n",
    "col_resto_recaudacion = df_cruza[\"Producto Interno Bruto\"]-df_recursos_top_5.drop(\"Recaudación bruta total\",axis=1).sum(axis=1)\n",
    "col_resto_recaudacion.name = \"Resto del PIB\"\n",
    "\n",
    "top_5_x_pbi = pd.concat([df_recursos_top_5, col_resto_recaudacion],axis=1)"
   ]
  },
  {
   "cell_type": "code",
   "execution_count": 156,
   "metadata": {},
   "outputs": [
    {
     "data": {
      "application/vnd.plotly.v1+json": {
       "config": {
        "plotlyServerURL": "https://plot.ly"
       },
       "data": [
        {
         "labels": [
          "Recaudación bruta de impuestos nacionales",
          "Internos sobre bienes y servicios",
          "Impuestos generales sobre los bienes y servicios",
          "Al valor agregado",
          "Aportes y contribuciones a la seguridad social",
          "Resto del PIB"
         ],
         "type": "pie",
         "values": [
          34963953.550668284,
          14649543.129431909,
          12505292.65557453,
          10148009.01883262,
          8335009.704659365,
          62027782.12484056
         ]
        }
       ],
       "layout": {
        "template": {
         "data": {
          "bar": [
           {
            "error_x": {
             "color": "#2a3f5f"
            },
            "error_y": {
             "color": "#2a3f5f"
            },
            "marker": {
             "line": {
              "color": "#E5ECF6",
              "width": 0.5
             },
             "pattern": {
              "fillmode": "overlay",
              "size": 10,
              "solidity": 0.2
             }
            },
            "type": "bar"
           }
          ],
          "barpolar": [
           {
            "marker": {
             "line": {
              "color": "#E5ECF6",
              "width": 0.5
             },
             "pattern": {
              "fillmode": "overlay",
              "size": 10,
              "solidity": 0.2
             }
            },
            "type": "barpolar"
           }
          ],
          "carpet": [
           {
            "aaxis": {
             "endlinecolor": "#2a3f5f",
             "gridcolor": "white",
             "linecolor": "white",
             "minorgridcolor": "white",
             "startlinecolor": "#2a3f5f"
            },
            "baxis": {
             "endlinecolor": "#2a3f5f",
             "gridcolor": "white",
             "linecolor": "white",
             "minorgridcolor": "white",
             "startlinecolor": "#2a3f5f"
            },
            "type": "carpet"
           }
          ],
          "choropleth": [
           {
            "colorbar": {
             "outlinewidth": 0,
             "ticks": ""
            },
            "type": "choropleth"
           }
          ],
          "contour": [
           {
            "colorbar": {
             "outlinewidth": 0,
             "ticks": ""
            },
            "colorscale": [
             [
              0,
              "#0d0887"
             ],
             [
              0.1111111111111111,
              "#46039f"
             ],
             [
              0.2222222222222222,
              "#7201a8"
             ],
             [
              0.3333333333333333,
              "#9c179e"
             ],
             [
              0.4444444444444444,
              "#bd3786"
             ],
             [
              0.5555555555555556,
              "#d8576b"
             ],
             [
              0.6666666666666666,
              "#ed7953"
             ],
             [
              0.7777777777777778,
              "#fb9f3a"
             ],
             [
              0.8888888888888888,
              "#fdca26"
             ],
             [
              1,
              "#f0f921"
             ]
            ],
            "type": "contour"
           }
          ],
          "contourcarpet": [
           {
            "colorbar": {
             "outlinewidth": 0,
             "ticks": ""
            },
            "type": "contourcarpet"
           }
          ],
          "heatmap": [
           {
            "colorbar": {
             "outlinewidth": 0,
             "ticks": ""
            },
            "colorscale": [
             [
              0,
              "#0d0887"
             ],
             [
              0.1111111111111111,
              "#46039f"
             ],
             [
              0.2222222222222222,
              "#7201a8"
             ],
             [
              0.3333333333333333,
              "#9c179e"
             ],
             [
              0.4444444444444444,
              "#bd3786"
             ],
             [
              0.5555555555555556,
              "#d8576b"
             ],
             [
              0.6666666666666666,
              "#ed7953"
             ],
             [
              0.7777777777777778,
              "#fb9f3a"
             ],
             [
              0.8888888888888888,
              "#fdca26"
             ],
             [
              1,
              "#f0f921"
             ]
            ],
            "type": "heatmap"
           }
          ],
          "heatmapgl": [
           {
            "colorbar": {
             "outlinewidth": 0,
             "ticks": ""
            },
            "colorscale": [
             [
              0,
              "#0d0887"
             ],
             [
              0.1111111111111111,
              "#46039f"
             ],
             [
              0.2222222222222222,
              "#7201a8"
             ],
             [
              0.3333333333333333,
              "#9c179e"
             ],
             [
              0.4444444444444444,
              "#bd3786"
             ],
             [
              0.5555555555555556,
              "#d8576b"
             ],
             [
              0.6666666666666666,
              "#ed7953"
             ],
             [
              0.7777777777777778,
              "#fb9f3a"
             ],
             [
              0.8888888888888888,
              "#fdca26"
             ],
             [
              1,
              "#f0f921"
             ]
            ],
            "type": "heatmapgl"
           }
          ],
          "histogram": [
           {
            "marker": {
             "pattern": {
              "fillmode": "overlay",
              "size": 10,
              "solidity": 0.2
             }
            },
            "type": "histogram"
           }
          ],
          "histogram2d": [
           {
            "colorbar": {
             "outlinewidth": 0,
             "ticks": ""
            },
            "colorscale": [
             [
              0,
              "#0d0887"
             ],
             [
              0.1111111111111111,
              "#46039f"
             ],
             [
              0.2222222222222222,
              "#7201a8"
             ],
             [
              0.3333333333333333,
              "#9c179e"
             ],
             [
              0.4444444444444444,
              "#bd3786"
             ],
             [
              0.5555555555555556,
              "#d8576b"
             ],
             [
              0.6666666666666666,
              "#ed7953"
             ],
             [
              0.7777777777777778,
              "#fb9f3a"
             ],
             [
              0.8888888888888888,
              "#fdca26"
             ],
             [
              1,
              "#f0f921"
             ]
            ],
            "type": "histogram2d"
           }
          ],
          "histogram2dcontour": [
           {
            "colorbar": {
             "outlinewidth": 0,
             "ticks": ""
            },
            "colorscale": [
             [
              0,
              "#0d0887"
             ],
             [
              0.1111111111111111,
              "#46039f"
             ],
             [
              0.2222222222222222,
              "#7201a8"
             ],
             [
              0.3333333333333333,
              "#9c179e"
             ],
             [
              0.4444444444444444,
              "#bd3786"
             ],
             [
              0.5555555555555556,
              "#d8576b"
             ],
             [
              0.6666666666666666,
              "#ed7953"
             ],
             [
              0.7777777777777778,
              "#fb9f3a"
             ],
             [
              0.8888888888888888,
              "#fdca26"
             ],
             [
              1,
              "#f0f921"
             ]
            ],
            "type": "histogram2dcontour"
           }
          ],
          "mesh3d": [
           {
            "colorbar": {
             "outlinewidth": 0,
             "ticks": ""
            },
            "type": "mesh3d"
           }
          ],
          "parcoords": [
           {
            "line": {
             "colorbar": {
              "outlinewidth": 0,
              "ticks": ""
             }
            },
            "type": "parcoords"
           }
          ],
          "pie": [
           {
            "automargin": true,
            "type": "pie"
           }
          ],
          "scatter": [
           {
            "fillpattern": {
             "fillmode": "overlay",
             "size": 10,
             "solidity": 0.2
            },
            "type": "scatter"
           }
          ],
          "scatter3d": [
           {
            "line": {
             "colorbar": {
              "outlinewidth": 0,
              "ticks": ""
             }
            },
            "marker": {
             "colorbar": {
              "outlinewidth": 0,
              "ticks": ""
             }
            },
            "type": "scatter3d"
           }
          ],
          "scattercarpet": [
           {
            "marker": {
             "colorbar": {
              "outlinewidth": 0,
              "ticks": ""
             }
            },
            "type": "scattercarpet"
           }
          ],
          "scattergeo": [
           {
            "marker": {
             "colorbar": {
              "outlinewidth": 0,
              "ticks": ""
             }
            },
            "type": "scattergeo"
           }
          ],
          "scattergl": [
           {
            "marker": {
             "colorbar": {
              "outlinewidth": 0,
              "ticks": ""
             }
            },
            "type": "scattergl"
           }
          ],
          "scattermapbox": [
           {
            "marker": {
             "colorbar": {
              "outlinewidth": 0,
              "ticks": ""
             }
            },
            "type": "scattermapbox"
           }
          ],
          "scatterpolar": [
           {
            "marker": {
             "colorbar": {
              "outlinewidth": 0,
              "ticks": ""
             }
            },
            "type": "scatterpolar"
           }
          ],
          "scatterpolargl": [
           {
            "marker": {
             "colorbar": {
              "outlinewidth": 0,
              "ticks": ""
             }
            },
            "type": "scatterpolargl"
           }
          ],
          "scatterternary": [
           {
            "marker": {
             "colorbar": {
              "outlinewidth": 0,
              "ticks": ""
             }
            },
            "type": "scatterternary"
           }
          ],
          "surface": [
           {
            "colorbar": {
             "outlinewidth": 0,
             "ticks": ""
            },
            "colorscale": [
             [
              0,
              "#0d0887"
             ],
             [
              0.1111111111111111,
              "#46039f"
             ],
             [
              0.2222222222222222,
              "#7201a8"
             ],
             [
              0.3333333333333333,
              "#9c179e"
             ],
             [
              0.4444444444444444,
              "#bd3786"
             ],
             [
              0.5555555555555556,
              "#d8576b"
             ],
             [
              0.6666666666666666,
              "#ed7953"
             ],
             [
              0.7777777777777778,
              "#fb9f3a"
             ],
             [
              0.8888888888888888,
              "#fdca26"
             ],
             [
              1,
              "#f0f921"
             ]
            ],
            "type": "surface"
           }
          ],
          "table": [
           {
            "cells": {
             "fill": {
              "color": "#EBF0F8"
             },
             "line": {
              "color": "white"
             }
            },
            "header": {
             "fill": {
              "color": "#C8D4E3"
             },
             "line": {
              "color": "white"
             }
            },
            "type": "table"
           }
          ]
         },
         "layout": {
          "annotationdefaults": {
           "arrowcolor": "#2a3f5f",
           "arrowhead": 0,
           "arrowwidth": 1
          },
          "autotypenumbers": "strict",
          "coloraxis": {
           "colorbar": {
            "outlinewidth": 0,
            "ticks": ""
           }
          },
          "colorscale": {
           "diverging": [
            [
             0,
             "#8e0152"
            ],
            [
             0.1,
             "#c51b7d"
            ],
            [
             0.2,
             "#de77ae"
            ],
            [
             0.3,
             "#f1b6da"
            ],
            [
             0.4,
             "#fde0ef"
            ],
            [
             0.5,
             "#f7f7f7"
            ],
            [
             0.6,
             "#e6f5d0"
            ],
            [
             0.7,
             "#b8e186"
            ],
            [
             0.8,
             "#7fbc41"
            ],
            [
             0.9,
             "#4d9221"
            ],
            [
             1,
             "#276419"
            ]
           ],
           "sequential": [
            [
             0,
             "#0d0887"
            ],
            [
             0.1111111111111111,
             "#46039f"
            ],
            [
             0.2222222222222222,
             "#7201a8"
            ],
            [
             0.3333333333333333,
             "#9c179e"
            ],
            [
             0.4444444444444444,
             "#bd3786"
            ],
            [
             0.5555555555555556,
             "#d8576b"
            ],
            [
             0.6666666666666666,
             "#ed7953"
            ],
            [
             0.7777777777777778,
             "#fb9f3a"
            ],
            [
             0.8888888888888888,
             "#fdca26"
            ],
            [
             1,
             "#f0f921"
            ]
           ],
           "sequentialminus": [
            [
             0,
             "#0d0887"
            ],
            [
             0.1111111111111111,
             "#46039f"
            ],
            [
             0.2222222222222222,
             "#7201a8"
            ],
            [
             0.3333333333333333,
             "#9c179e"
            ],
            [
             0.4444444444444444,
             "#bd3786"
            ],
            [
             0.5555555555555556,
             "#d8576b"
            ],
            [
             0.6666666666666666,
             "#ed7953"
            ],
            [
             0.7777777777777778,
             "#fb9f3a"
            ],
            [
             0.8888888888888888,
             "#fdca26"
            ],
            [
             1,
             "#f0f921"
            ]
           ]
          },
          "colorway": [
           "#636efa",
           "#EF553B",
           "#00cc96",
           "#ab63fa",
           "#FFA15A",
           "#19d3f3",
           "#FF6692",
           "#B6E880",
           "#FF97FF",
           "#FECB52"
          ],
          "font": {
           "color": "#2a3f5f"
          },
          "geo": {
           "bgcolor": "white",
           "lakecolor": "white",
           "landcolor": "#E5ECF6",
           "showlakes": true,
           "showland": true,
           "subunitcolor": "white"
          },
          "hoverlabel": {
           "align": "left"
          },
          "hovermode": "closest",
          "mapbox": {
           "style": "light"
          },
          "paper_bgcolor": "white",
          "plot_bgcolor": "#E5ECF6",
          "polar": {
           "angularaxis": {
            "gridcolor": "white",
            "linecolor": "white",
            "ticks": ""
           },
           "bgcolor": "#E5ECF6",
           "radialaxis": {
            "gridcolor": "white",
            "linecolor": "white",
            "ticks": ""
           }
          },
          "scene": {
           "xaxis": {
            "backgroundcolor": "#E5ECF6",
            "gridcolor": "white",
            "gridwidth": 2,
            "linecolor": "white",
            "showbackground": true,
            "ticks": "",
            "zerolinecolor": "white"
           },
           "yaxis": {
            "backgroundcolor": "#E5ECF6",
            "gridcolor": "white",
            "gridwidth": 2,
            "linecolor": "white",
            "showbackground": true,
            "ticks": "",
            "zerolinecolor": "white"
           },
           "zaxis": {
            "backgroundcolor": "#E5ECF6",
            "gridcolor": "white",
            "gridwidth": 2,
            "linecolor": "white",
            "showbackground": true,
            "ticks": "",
            "zerolinecolor": "white"
           }
          },
          "shapedefaults": {
           "line": {
            "color": "#2a3f5f"
           }
          },
          "ternary": {
           "aaxis": {
            "gridcolor": "white",
            "linecolor": "white",
            "ticks": ""
           },
           "baxis": {
            "gridcolor": "white",
            "linecolor": "white",
            "ticks": ""
           },
           "bgcolor": "#E5ECF6",
           "caxis": {
            "gridcolor": "white",
            "linecolor": "white",
            "ticks": ""
           }
          },
          "title": {
           "x": 0.05
          },
          "xaxis": {
           "automargin": true,
           "gridcolor": "white",
           "linecolor": "white",
           "ticks": "",
           "title": {
            "standoff": 15
           },
           "zerolinecolor": "white",
           "zerolinewidth": 2
          },
          "yaxis": {
           "automargin": true,
           "gridcolor": "white",
           "linecolor": "white",
           "ticks": "",
           "title": {
            "standoff": 15
           },
           "zerolinecolor": "white",
           "zerolinewidth": 2
          }
         }
        }
       }
      }
     },
     "metadata": {},
     "output_type": "display_data"
    }
   ],
   "source": [
    "plot_pie = go.Figure()\n",
    "\n",
    "df_pie = top_5_x_pbi.drop([ \"Recaudación bruta total\"],axis=1)\n",
    "\n",
    "plot_pie.add_trace(go.Pie(labels=df_pie.columns, values=df_pie.sum()))\n",
    "    \n",
    "\n",
    "plot_pie"
   ]
  },
  {
   "cell_type": "code",
   "execution_count": 151,
   "metadata": {},
   "outputs": [
    {
     "data": {
      "text/plain": [
       "Recaudación bruta de impuestos nacionales           0.241806\n",
       "Internos sobre bienes y servicios                   0.101114\n",
       "Impuestos generales sobre los bienes y servicios    0.086389\n",
       "Al valor agregado                                   0.069986\n",
       "Aportes y contribuciones a la seguridad social      0.051744\n",
       "Resto del PIB                                       0.448960\n",
       "dtype: float64"
      ]
     },
     "execution_count": 151,
     "metadata": {},
     "output_type": "execute_result"
    }
   ],
   "source": [
    "df_pie[df_pie.index == '2021'].sum()"
   ]
  },
  {
   "cell_type": "code",
   "execution_count": 158,
   "metadata": {},
   "outputs": [
    {
     "data": {
      "application/vnd.plotly.v1+json": {
       "config": {
        "plotlyServerURL": "https://plot.ly"
       },
       "data": [
        {
         "labels": [
          "Recaudación bruta de impuestos nacionales",
          "Internos sobre bienes y servicios",
          "Impuestos generales sobre los bienes y servicios",
          "Al valor agregado",
          "Aportes y contribuciones a la seguridad social",
          "Resto del PIB"
         ],
         "type": "pie",
         "values": [
          11206795.94446662,
          4686269.5331371,
          4003817.60118445,
          3243608.2105748,
          2398125.7595331,
          20807610.304682642
         ]
        }
       ],
       "layout": {
        "template": {
         "data": {
          "bar": [
           {
            "error_x": {
             "color": "#2a3f5f"
            },
            "error_y": {
             "color": "#2a3f5f"
            },
            "marker": {
             "line": {
              "color": "#E5ECF6",
              "width": 0.5
             },
             "pattern": {
              "fillmode": "overlay",
              "size": 10,
              "solidity": 0.2
             }
            },
            "type": "bar"
           }
          ],
          "barpolar": [
           {
            "marker": {
             "line": {
              "color": "#E5ECF6",
              "width": 0.5
             },
             "pattern": {
              "fillmode": "overlay",
              "size": 10,
              "solidity": 0.2
             }
            },
            "type": "barpolar"
           }
          ],
          "carpet": [
           {
            "aaxis": {
             "endlinecolor": "#2a3f5f",
             "gridcolor": "white",
             "linecolor": "white",
             "minorgridcolor": "white",
             "startlinecolor": "#2a3f5f"
            },
            "baxis": {
             "endlinecolor": "#2a3f5f",
             "gridcolor": "white",
             "linecolor": "white",
             "minorgridcolor": "white",
             "startlinecolor": "#2a3f5f"
            },
            "type": "carpet"
           }
          ],
          "choropleth": [
           {
            "colorbar": {
             "outlinewidth": 0,
             "ticks": ""
            },
            "type": "choropleth"
           }
          ],
          "contour": [
           {
            "colorbar": {
             "outlinewidth": 0,
             "ticks": ""
            },
            "colorscale": [
             [
              0,
              "#0d0887"
             ],
             [
              0.1111111111111111,
              "#46039f"
             ],
             [
              0.2222222222222222,
              "#7201a8"
             ],
             [
              0.3333333333333333,
              "#9c179e"
             ],
             [
              0.4444444444444444,
              "#bd3786"
             ],
             [
              0.5555555555555556,
              "#d8576b"
             ],
             [
              0.6666666666666666,
              "#ed7953"
             ],
             [
              0.7777777777777778,
              "#fb9f3a"
             ],
             [
              0.8888888888888888,
              "#fdca26"
             ],
             [
              1,
              "#f0f921"
             ]
            ],
            "type": "contour"
           }
          ],
          "contourcarpet": [
           {
            "colorbar": {
             "outlinewidth": 0,
             "ticks": ""
            },
            "type": "contourcarpet"
           }
          ],
          "heatmap": [
           {
            "colorbar": {
             "outlinewidth": 0,
             "ticks": ""
            },
            "colorscale": [
             [
              0,
              "#0d0887"
             ],
             [
              0.1111111111111111,
              "#46039f"
             ],
             [
              0.2222222222222222,
              "#7201a8"
             ],
             [
              0.3333333333333333,
              "#9c179e"
             ],
             [
              0.4444444444444444,
              "#bd3786"
             ],
             [
              0.5555555555555556,
              "#d8576b"
             ],
             [
              0.6666666666666666,
              "#ed7953"
             ],
             [
              0.7777777777777778,
              "#fb9f3a"
             ],
             [
              0.8888888888888888,
              "#fdca26"
             ],
             [
              1,
              "#f0f921"
             ]
            ],
            "type": "heatmap"
           }
          ],
          "heatmapgl": [
           {
            "colorbar": {
             "outlinewidth": 0,
             "ticks": ""
            },
            "colorscale": [
             [
              0,
              "#0d0887"
             ],
             [
              0.1111111111111111,
              "#46039f"
             ],
             [
              0.2222222222222222,
              "#7201a8"
             ],
             [
              0.3333333333333333,
              "#9c179e"
             ],
             [
              0.4444444444444444,
              "#bd3786"
             ],
             [
              0.5555555555555556,
              "#d8576b"
             ],
             [
              0.6666666666666666,
              "#ed7953"
             ],
             [
              0.7777777777777778,
              "#fb9f3a"
             ],
             [
              0.8888888888888888,
              "#fdca26"
             ],
             [
              1,
              "#f0f921"
             ]
            ],
            "type": "heatmapgl"
           }
          ],
          "histogram": [
           {
            "marker": {
             "pattern": {
              "fillmode": "overlay",
              "size": 10,
              "solidity": 0.2
             }
            },
            "type": "histogram"
           }
          ],
          "histogram2d": [
           {
            "colorbar": {
             "outlinewidth": 0,
             "ticks": ""
            },
            "colorscale": [
             [
              0,
              "#0d0887"
             ],
             [
              0.1111111111111111,
              "#46039f"
             ],
             [
              0.2222222222222222,
              "#7201a8"
             ],
             [
              0.3333333333333333,
              "#9c179e"
             ],
             [
              0.4444444444444444,
              "#bd3786"
             ],
             [
              0.5555555555555556,
              "#d8576b"
             ],
             [
              0.6666666666666666,
              "#ed7953"
             ],
             [
              0.7777777777777778,
              "#fb9f3a"
             ],
             [
              0.8888888888888888,
              "#fdca26"
             ],
             [
              1,
              "#f0f921"
             ]
            ],
            "type": "histogram2d"
           }
          ],
          "histogram2dcontour": [
           {
            "colorbar": {
             "outlinewidth": 0,
             "ticks": ""
            },
            "colorscale": [
             [
              0,
              "#0d0887"
             ],
             [
              0.1111111111111111,
              "#46039f"
             ],
             [
              0.2222222222222222,
              "#7201a8"
             ],
             [
              0.3333333333333333,
              "#9c179e"
             ],
             [
              0.4444444444444444,
              "#bd3786"
             ],
             [
              0.5555555555555556,
              "#d8576b"
             ],
             [
              0.6666666666666666,
              "#ed7953"
             ],
             [
              0.7777777777777778,
              "#fb9f3a"
             ],
             [
              0.8888888888888888,
              "#fdca26"
             ],
             [
              1,
              "#f0f921"
             ]
            ],
            "type": "histogram2dcontour"
           }
          ],
          "mesh3d": [
           {
            "colorbar": {
             "outlinewidth": 0,
             "ticks": ""
            },
            "type": "mesh3d"
           }
          ],
          "parcoords": [
           {
            "line": {
             "colorbar": {
              "outlinewidth": 0,
              "ticks": ""
             }
            },
            "type": "parcoords"
           }
          ],
          "pie": [
           {
            "automargin": true,
            "type": "pie"
           }
          ],
          "scatter": [
           {
            "fillpattern": {
             "fillmode": "overlay",
             "size": 10,
             "solidity": 0.2
            },
            "type": "scatter"
           }
          ],
          "scatter3d": [
           {
            "line": {
             "colorbar": {
              "outlinewidth": 0,
              "ticks": ""
             }
            },
            "marker": {
             "colorbar": {
              "outlinewidth": 0,
              "ticks": ""
             }
            },
            "type": "scatter3d"
           }
          ],
          "scattercarpet": [
           {
            "marker": {
             "colorbar": {
              "outlinewidth": 0,
              "ticks": ""
             }
            },
            "type": "scattercarpet"
           }
          ],
          "scattergeo": [
           {
            "marker": {
             "colorbar": {
              "outlinewidth": 0,
              "ticks": ""
             }
            },
            "type": "scattergeo"
           }
          ],
          "scattergl": [
           {
            "marker": {
             "colorbar": {
              "outlinewidth": 0,
              "ticks": ""
             }
            },
            "type": "scattergl"
           }
          ],
          "scattermapbox": [
           {
            "marker": {
             "colorbar": {
              "outlinewidth": 0,
              "ticks": ""
             }
            },
            "type": "scattermapbox"
           }
          ],
          "scatterpolar": [
           {
            "marker": {
             "colorbar": {
              "outlinewidth": 0,
              "ticks": ""
             }
            },
            "type": "scatterpolar"
           }
          ],
          "scatterpolargl": [
           {
            "marker": {
             "colorbar": {
              "outlinewidth": 0,
              "ticks": ""
             }
            },
            "type": "scatterpolargl"
           }
          ],
          "scatterternary": [
           {
            "marker": {
             "colorbar": {
              "outlinewidth": 0,
              "ticks": ""
             }
            },
            "type": "scatterternary"
           }
          ],
          "surface": [
           {
            "colorbar": {
             "outlinewidth": 0,
             "ticks": ""
            },
            "colorscale": [
             [
              0,
              "#0d0887"
             ],
             [
              0.1111111111111111,
              "#46039f"
             ],
             [
              0.2222222222222222,
              "#7201a8"
             ],
             [
              0.3333333333333333,
              "#9c179e"
             ],
             [
              0.4444444444444444,
              "#bd3786"
             ],
             [
              0.5555555555555556,
              "#d8576b"
             ],
             [
              0.6666666666666666,
              "#ed7953"
             ],
             [
              0.7777777777777778,
              "#fb9f3a"
             ],
             [
              0.8888888888888888,
              "#fdca26"
             ],
             [
              1,
              "#f0f921"
             ]
            ],
            "type": "surface"
           }
          ],
          "table": [
           {
            "cells": {
             "fill": {
              "color": "#EBF0F8"
             },
             "line": {
              "color": "white"
             }
            },
            "header": {
             "fill": {
              "color": "#C8D4E3"
             },
             "line": {
              "color": "white"
             }
            },
            "type": "table"
           }
          ]
         },
         "layout": {
          "annotationdefaults": {
           "arrowcolor": "#2a3f5f",
           "arrowhead": 0,
           "arrowwidth": 1
          },
          "autotypenumbers": "strict",
          "coloraxis": {
           "colorbar": {
            "outlinewidth": 0,
            "ticks": ""
           }
          },
          "colorscale": {
           "diverging": [
            [
             0,
             "#8e0152"
            ],
            [
             0.1,
             "#c51b7d"
            ],
            [
             0.2,
             "#de77ae"
            ],
            [
             0.3,
             "#f1b6da"
            ],
            [
             0.4,
             "#fde0ef"
            ],
            [
             0.5,
             "#f7f7f7"
            ],
            [
             0.6,
             "#e6f5d0"
            ],
            [
             0.7,
             "#b8e186"
            ],
            [
             0.8,
             "#7fbc41"
            ],
            [
             0.9,
             "#4d9221"
            ],
            [
             1,
             "#276419"
            ]
           ],
           "sequential": [
            [
             0,
             "#0d0887"
            ],
            [
             0.1111111111111111,
             "#46039f"
            ],
            [
             0.2222222222222222,
             "#7201a8"
            ],
            [
             0.3333333333333333,
             "#9c179e"
            ],
            [
             0.4444444444444444,
             "#bd3786"
            ],
            [
             0.5555555555555556,
             "#d8576b"
            ],
            [
             0.6666666666666666,
             "#ed7953"
            ],
            [
             0.7777777777777778,
             "#fb9f3a"
            ],
            [
             0.8888888888888888,
             "#fdca26"
            ],
            [
             1,
             "#f0f921"
            ]
           ],
           "sequentialminus": [
            [
             0,
             "#0d0887"
            ],
            [
             0.1111111111111111,
             "#46039f"
            ],
            [
             0.2222222222222222,
             "#7201a8"
            ],
            [
             0.3333333333333333,
             "#9c179e"
            ],
            [
             0.4444444444444444,
             "#bd3786"
            ],
            [
             0.5555555555555556,
             "#d8576b"
            ],
            [
             0.6666666666666666,
             "#ed7953"
            ],
            [
             0.7777777777777778,
             "#fb9f3a"
            ],
            [
             0.8888888888888888,
             "#fdca26"
            ],
            [
             1,
             "#f0f921"
            ]
           ]
          },
          "colorway": [
           "#636efa",
           "#EF553B",
           "#00cc96",
           "#ab63fa",
           "#FFA15A",
           "#19d3f3",
           "#FF6692",
           "#B6E880",
           "#FF97FF",
           "#FECB52"
          ],
          "font": {
           "color": "#2a3f5f"
          },
          "geo": {
           "bgcolor": "white",
           "lakecolor": "white",
           "landcolor": "#E5ECF6",
           "showlakes": true,
           "showland": true,
           "subunitcolor": "white"
          },
          "hoverlabel": {
           "align": "left"
          },
          "hovermode": "closest",
          "mapbox": {
           "style": "light"
          },
          "paper_bgcolor": "white",
          "plot_bgcolor": "#E5ECF6",
          "polar": {
           "angularaxis": {
            "gridcolor": "white",
            "linecolor": "white",
            "ticks": ""
           },
           "bgcolor": "#E5ECF6",
           "radialaxis": {
            "gridcolor": "white",
            "linecolor": "white",
            "ticks": ""
           }
          },
          "scene": {
           "xaxis": {
            "backgroundcolor": "#E5ECF6",
            "gridcolor": "white",
            "gridwidth": 2,
            "linecolor": "white",
            "showbackground": true,
            "ticks": "",
            "zerolinecolor": "white"
           },
           "yaxis": {
            "backgroundcolor": "#E5ECF6",
            "gridcolor": "white",
            "gridwidth": 2,
            "linecolor": "white",
            "showbackground": true,
            "ticks": "",
            "zerolinecolor": "white"
           },
           "zaxis": {
            "backgroundcolor": "#E5ECF6",
            "gridcolor": "white",
            "gridwidth": 2,
            "linecolor": "white",
            "showbackground": true,
            "ticks": "",
            "zerolinecolor": "white"
           }
          },
          "shapedefaults": {
           "line": {
            "color": "#2a3f5f"
           }
          },
          "ternary": {
           "aaxis": {
            "gridcolor": "white",
            "linecolor": "white",
            "ticks": ""
           },
           "baxis": {
            "gridcolor": "white",
            "linecolor": "white",
            "ticks": ""
           },
           "bgcolor": "#E5ECF6",
           "caxis": {
            "gridcolor": "white",
            "linecolor": "white",
            "ticks": ""
           }
          },
          "title": {
           "x": 0.05
          },
          "xaxis": {
           "automargin": true,
           "gridcolor": "white",
           "linecolor": "white",
           "ticks": "",
           "title": {
            "standoff": 15
           },
           "zerolinecolor": "white",
           "zerolinewidth": 2
          },
          "yaxis": {
           "automargin": true,
           "gridcolor": "white",
           "linecolor": "white",
           "ticks": "",
           "title": {
            "standoff": 15
           },
           "zerolinecolor": "white",
           "zerolinewidth": 2
          }
         }
        }
       }
      }
     },
     "metadata": {},
     "output_type": "display_data"
    }
   ],
   "source": [
    "plot_pie = go.Figure()\n",
    "\n",
    "df_pie = top_5_x_pbi.drop([\"Recaudación bruta total\"],axis=1)\n",
    "\n",
    "plot_pie.add_trace(go.Pie(labels=df_pie.columns, values=df_pie[df_pie.index == '2021'].sum()))\n",
    "    \n",
    "\n",
    "plot_pie"
   ]
  }
 ],
 "metadata": {
  "kernelspec": {
   "display_name": "my-proj",
   "language": "python",
   "name": "python3"
  },
  "language_info": {
   "codemirror_mode": {
    "name": "ipython",
    "version": 3
   },
   "file_extension": ".py",
   "mimetype": "text/x-python",
   "name": "python",
   "nbconvert_exporter": "python",
   "pygments_lexer": "ipython3",
   "version": "3.10.12"
  }
 },
 "nbformat": 4,
 "nbformat_minor": 2
}
