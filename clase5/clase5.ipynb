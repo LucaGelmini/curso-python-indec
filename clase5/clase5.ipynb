{
 "cells": [
  {
   "cell_type": "markdown",
   "metadata": {},
   "source": [
    "# Clase 5 - XlsxWriter, estructura de un proyecto y ejemplos prácticos 💹📋"
   ]
  },
  {
   "cell_type": "markdown",
   "metadata": {},
   "source": [
    "## XlsxWriter\n",
    "\n",
    "Se instala con `pip install XlsxWriter` o `conda install XlsxWriter`\n",
    "\n",
    "Es una libreria de python que sirve para crear hojas de calculo de formato \"Excel\" de forma automatizada y con una capacidad de configuración enorme. Con XlsxWriter vamos a poder crear archivos excel de múltiples hojas a partir de muchos dataframes. Además nos va a dar la posibilidad de crear archivos excel usando casi todo lo que excel nos ofrece. Vamos a poder escribir formulas de excel, dar formato a las celdas, automatizar la creación de gráficos de excel o hasta escribir macros programáticamente.\n",
    "Muchas veces por más automatizados y complejos que sean nuestros procesos es necesario compartirlos en forma de hojas de cálculo simplemente por la facilidad y familiaridad que tiene esa herramienta. Cuándo queremos exportar proyectos complejos a un excel es usual que un excel de una sola hoja con una tabla plana no sea suficiente satisfacer el objetivo del proyecto, para eso podemos usar esta libreria para sacarle más provecho al formato de excel.\n",
    "\n",
    "¡Vean la documentación acá!: [Documentación XlsxWriter](https://xlsxwriter.readthedocs.io/)\n",
    "\n",
    "Veamos ejemplos:"
   ]
  },
  {
   "cell_type": "code",
   "execution_count": 7,
   "metadata": {},
   "outputs": [],
   "source": [
    "import xlsxwriter\n",
    "\n",
    "workbook = xlsxwriter.Workbook('hello.xlsx')\n",
    "worksheet = workbook.add_worksheet()\n",
    "\n",
    "worksheet.write('A1', 'Hello world')\n",
    "\n",
    "workbook.close()"
   ]
  },
  {
   "cell_type": "markdown",
   "metadata": {},
   "source": [
    "En este ejemplo ven como crea un nuevo archivo de excel y explícitamente en escribe algo en la celda 'A1'.\n",
    "Quiero que noten como debe usar el método `.close()` para dejar de trbajar con el archivo. Es super importante no olvidarse de cerrar los archivos porque al igual que cuando uno usa un excel, ninguna otra persona ni proceso puede modificarlo mientras esté abierto. No cerrarlo va a causar que no sea seguro que los procesos que quisimos plasmar en el excel se guarden y tambien puede generar que su programa no pueda terminar correctamente o que directamente se quede abierto imposibilitando usar el archivo.\n",
    "\n",
    "Por esa razón, para no olvidarse de cerrar el archivo, recomiendo mucho esta otra forma de escribir el mismo código:"
   ]
  },
  {
   "cell_type": "code",
   "execution_count": 8,
   "metadata": {},
   "outputs": [],
   "source": [
    "with xlsxwriter.Workbook('hello.xlsx') as workbook:\n",
    "    worksheet = workbook.add_worksheet()\n",
    "    worksheet.write('A1', 'Hello world')\n"
   ]
  },
  {
   "cell_type": "markdown",
   "metadata": {},
   "source": [
    "De esa forma abrimos o creamos el documento con `with` y una vez que salimos de ese bloque de código, el archivo se cierra de manera segura. Tengan en cuenta este patrón cada vez que en Python encuentren este tipo de objetos que deban ser cerrados por un método como `.close()` ya que posiblemente funcionen con `with` y de esa forma dejemos un código más claro y seguro."
   ]
  },
  {
   "cell_type": "markdown",
   "metadata": {},
   "source": [
    "### El objeto `Workbook`, `Worksheet` y otros\n",
    "Fijense como para usar esta librería debemos usar los objetos que nos provee. Para hacer la hoja de cálculo más simple debemos llamar por lo menos a dos objetos. Al objeto `Workbook` que va a representar en el Python a nuestro archivo de excel y al objeto `WorkSheet` que representa a una hoja del excel.\n",
    "\n",
    "Noten esto: primero llamamos a Workbook con el nombre del archivo que queremos modificar o leer (`workbook = xlsxwriter.Workbook('hello.xlsx')` o de la otra forma equivalente `with xlsxwriter.Workbook('hello.xlsx') as workbook:`). Luego es a partir del objeto que llamamos workbook que podemos traer nuevos objetos que como `Worksheet` a través de los métodos `.add_????()`que van a representar otras funcionalidades del excel. En el ejemplo de arriba creo solo una hoja a la que le escribe algo.\n",
    "\n",
    "En el siguiente ejemplo escribimos dos hojas y le ponemos formato a las celdas con el objeto `Format`:"
   ]
  },
  {
   "cell_type": "code",
   "execution_count": 9,
   "metadata": {},
   "outputs": [
    {
     "ename": "DuplicateWorksheetName",
     "evalue": "Sheetname 'hoja1', with case ignored, is already in use.",
     "output_type": "error",
     "traceback": [
      "\u001b[0;31m---------------------------------------------------------------------------\u001b[0m",
      "\u001b[0;31mDuplicateWorksheetName\u001b[0m                    Traceback (most recent call last)",
      "Cell \u001b[0;32mIn[9], line 3\u001b[0m\n\u001b[1;32m      1\u001b[0m \u001b[38;5;28;01mwith\u001b[39;00m xlsxwriter\u001b[38;5;241m.\u001b[39mWorkbook(\u001b[38;5;124m'\u001b[39m\u001b[38;5;124mhello.xlsx\u001b[39m\u001b[38;5;124m'\u001b[39m) \u001b[38;5;28;01mas\u001b[39;00m libro2:\n\u001b[1;32m      2\u001b[0m     hoja1 \u001b[38;5;241m=\u001b[39m libro2\u001b[38;5;241m.\u001b[39madd_worksheet(\u001b[38;5;124m'\u001b[39m\u001b[38;5;124mhoja1\u001b[39m\u001b[38;5;124m'\u001b[39m)\n\u001b[0;32m----> 3\u001b[0m     hoja2 \u001b[38;5;241m=\u001b[39m \u001b[43mlibro2\u001b[49m\u001b[38;5;241;43m.\u001b[39;49m\u001b[43madd_worksheet\u001b[49m\u001b[43m(\u001b[49m\u001b[38;5;124;43m'\u001b[39;49m\u001b[38;5;124;43mhoja1\u001b[39;49m\u001b[38;5;124;43m'\u001b[39;49m\u001b[43m)\u001b[49m\n\u001b[1;32m      4\u001b[0m     formato_celda_resaltada \u001b[38;5;241m=\u001b[39m libro2\u001b[38;5;241m.\u001b[39madd_format({\u001b[38;5;124m'\u001b[39m\u001b[38;5;124mbold\u001b[39m\u001b[38;5;124m'\u001b[39m:\u001b[38;5;28;01mTrue\u001b[39;00m,\u001b[38;5;124m\"\u001b[39m\u001b[38;5;124mbg_color\u001b[39m\u001b[38;5;124m\"\u001b[39m:\u001b[38;5;124m\"\u001b[39m\u001b[38;5;124myellow\u001b[39m\u001b[38;5;124m\"\u001b[39m, \u001b[38;5;124m'\u001b[39m\u001b[38;5;124mfont_color\u001b[39m\u001b[38;5;124m'\u001b[39m: \u001b[38;5;124m'\u001b[39m\u001b[38;5;124mred\u001b[39m\u001b[38;5;124m'\u001b[39m})\n\u001b[1;32m      5\u001b[0m     hoja1\u001b[38;5;241m.\u001b[39mwrite(\u001b[38;5;124m'\u001b[39m\u001b[38;5;124mA1\u001b[39m\u001b[38;5;124m'\u001b[39m, \u001b[38;5;124m'\u001b[39m\u001b[38;5;124mHola mundo\u001b[39m\u001b[38;5;124m'\u001b[39m, formato_celda_resaltada)\n",
      "File \u001b[0;32m~/.cache/pypoetry/virtualenvs/curso-python-indec-xTACAnVS-py3.10/lib/python3.10/site-packages/xlsxwriter/workbook.py:191\u001b[0m, in \u001b[0;36mWorkbook.add_worksheet\u001b[0;34m(self, name, worksheet_class)\u001b[0m\n\u001b[1;32m    188\u001b[0m \u001b[38;5;28;01mif\u001b[39;00m worksheet_class \u001b[38;5;129;01mis\u001b[39;00m \u001b[38;5;28;01mNone\u001b[39;00m:\n\u001b[1;32m    189\u001b[0m     worksheet_class \u001b[38;5;241m=\u001b[39m \u001b[38;5;28mself\u001b[39m\u001b[38;5;241m.\u001b[39mworksheet_class\n\u001b[0;32m--> 191\u001b[0m \u001b[38;5;28;01mreturn\u001b[39;00m \u001b[38;5;28;43mself\u001b[39;49m\u001b[38;5;241;43m.\u001b[39;49m\u001b[43m_add_sheet\u001b[49m\u001b[43m(\u001b[49m\u001b[43mname\u001b[49m\u001b[43m,\u001b[49m\u001b[43m \u001b[49m\u001b[43mworksheet_class\u001b[49m\u001b[38;5;241;43m=\u001b[39;49m\u001b[43mworksheet_class\u001b[49m\u001b[43m)\u001b[49m\n",
      "File \u001b[0;32m~/.cache/pypoetry/virtualenvs/curso-python-indec-xTACAnVS-py3.10/lib/python3.10/site-packages/xlsxwriter/workbook.py:794\u001b[0m, in \u001b[0;36mWorkbook._add_sheet\u001b[0;34m(self, name, worksheet_class)\u001b[0m\n\u001b[1;32m    791\u001b[0m     worksheet \u001b[38;5;241m=\u001b[39m \u001b[38;5;28mself\u001b[39m\u001b[38;5;241m.\u001b[39mworksheet_class()\n\u001b[1;32m    793\u001b[0m sheet_index \u001b[38;5;241m=\u001b[39m \u001b[38;5;28mlen\u001b[39m(\u001b[38;5;28mself\u001b[39m\u001b[38;5;241m.\u001b[39mworksheets_objs)\n\u001b[0;32m--> 794\u001b[0m name \u001b[38;5;241m=\u001b[39m \u001b[38;5;28;43mself\u001b[39;49m\u001b[38;5;241;43m.\u001b[39;49m\u001b[43m_check_sheetname\u001b[49m\u001b[43m(\u001b[49m\u001b[43mname\u001b[49m\u001b[43m,\u001b[49m\u001b[43m \u001b[49m\u001b[38;5;28;43misinstance\u001b[39;49m\u001b[43m(\u001b[49m\u001b[43mworksheet\u001b[49m\u001b[43m,\u001b[49m\u001b[43m \u001b[49m\u001b[43mChartsheet\u001b[49m\u001b[43m)\u001b[49m\u001b[43m)\u001b[49m\n\u001b[1;32m    796\u001b[0m \u001b[38;5;66;03m# Initialization data to pass to the worksheet.\u001b[39;00m\n\u001b[1;32m    797\u001b[0m init_data \u001b[38;5;241m=\u001b[39m {\n\u001b[1;32m    798\u001b[0m     \u001b[38;5;124m\"\u001b[39m\u001b[38;5;124mname\u001b[39m\u001b[38;5;124m\"\u001b[39m: name,\n\u001b[1;32m    799\u001b[0m     \u001b[38;5;124m\"\u001b[39m\u001b[38;5;124mindex\u001b[39m\u001b[38;5;124m\"\u001b[39m: sheet_index,\n\u001b[0;32m   (...)\u001b[0m\n\u001b[1;32m    814\u001b[0m     \u001b[38;5;124m\"\u001b[39m\u001b[38;5;124muse_future_functions\u001b[39m\u001b[38;5;124m\"\u001b[39m: \u001b[38;5;28mself\u001b[39m\u001b[38;5;241m.\u001b[39muse_future_functions,\n\u001b[1;32m    815\u001b[0m }\n",
      "File \u001b[0;32m~/.cache/pypoetry/virtualenvs/curso-python-indec-xTACAnVS-py3.10/lib/python3.10/site-packages/xlsxwriter/workbook.py:864\u001b[0m, in \u001b[0;36mWorkbook._check_sheetname\u001b[0;34m(self, sheetname, is_chartsheet)\u001b[0m\n\u001b[1;32m    862\u001b[0m \u001b[38;5;28;01mfor\u001b[39;00m worksheet \u001b[38;5;129;01min\u001b[39;00m \u001b[38;5;28mself\u001b[39m\u001b[38;5;241m.\u001b[39mworksheets():\n\u001b[1;32m    863\u001b[0m     \u001b[38;5;28;01mif\u001b[39;00m sheetname\u001b[38;5;241m.\u001b[39mlower() \u001b[38;5;241m==\u001b[39m worksheet\u001b[38;5;241m.\u001b[39mname\u001b[38;5;241m.\u001b[39mlower():\n\u001b[0;32m--> 864\u001b[0m         \u001b[38;5;28;01mraise\u001b[39;00m DuplicateWorksheetName(\n\u001b[1;32m    865\u001b[0m             \u001b[38;5;124m\"\u001b[39m\u001b[38;5;124mSheetname \u001b[39m\u001b[38;5;124m'\u001b[39m\u001b[38;5;132;01m%s\u001b[39;00m\u001b[38;5;124m'\u001b[39m\u001b[38;5;124m, with case ignored, is already in use.\u001b[39m\u001b[38;5;124m\"\u001b[39m \u001b[38;5;241m%\u001b[39m sheetname\n\u001b[1;32m    866\u001b[0m         )\n\u001b[1;32m    868\u001b[0m \u001b[38;5;28;01mreturn\u001b[39;00m sheetname\n",
      "\u001b[0;31mDuplicateWorksheetName\u001b[0m: Sheetname 'hoja1', with case ignored, is already in use."
     ]
    }
   ],
   "source": [
    "with xlsxwriter.Workbook('hello.xlsx') as libro2:\n",
    "    hoja1 = libro2.add_worksheet('hoja1')\n",
    "    hoja2 = libro2.add_worksheet('hoja1')\n",
    "    formato_celda_resaltada = libro2.add_format({'bold':True,\"bg_color\":\"yellow\", 'font_color': 'red'})\n",
    "    hoja1.write('A1', 'Hola mundo', formato_celda_resaltada)\n",
    "    hoja2.write(0,0,'Chau')"
   ]
  },
  {
   "cell_type": "markdown",
   "metadata": {},
   "source": [
    "Tengamos en cuenta que de la misma manera que puse un texto en una celda, tambien podemos escribir fórmulas de excel. Y asi como puedo agregar hojas al proyecto también puedo agregar gráficos si quisiese."
   ]
  },
  {
   "cell_type": "markdown",
   "metadata": {},
   "source": [
    "### Pandas y XlsxWriter 🐼 📊"
   ]
  },
  {
   "cell_type": "markdown",
   "metadata": {},
   "source": [
    "Esta libreria funciona muy bien integrada con Pandas, para ello debemos aprovechar el objeto `ExcelWriter` que es la herramienta de pandas para integrarse muchas librerias para exportar los datos. Van a ver que se una muy parecido a los objetos que estabamos viendo antes, en este caso tenemos que indicarle a pandas que estamos usando como motor de exportación a __xlsxwriter__"
   ]
  },
  {
   "cell_type": "markdown",
   "metadata": {},
   "source": [
    "Recordemos que posteriormente podiamos exportar a excel de la siguiente forma `df.to_excel('tabla.xlsx')`. Pero de esta forma nunca podremos crear hojas de cálculo de varias hojas, ni darle formato, ni usar otras herramientas de excel."
   ]
  },
  {
   "cell_type": "code",
   "execution_count": 11,
   "metadata": {},
   "outputs": [],
   "source": [
    "import pandas as pd\n",
    "\n",
    "df1 = pd.DataFrame({'uno':[1,2,3], 'dos':[3,2,1]})\n",
    "df2 = pd.DataFrame({'hola':['a','b','c'], 'chau':[9,8,7]})\n",
    "\n",
    "with pd.ExcelWriter('pandas.xlsx', engine='xlsxwriter') as writer:\n",
    "    # Escribimos los datos en dos hojas distintas del excel\n",
    "    df1.to_excel(writer,sheet_name='hoja1',index=False)\n",
    "    df2.to_excel(writer,sheet_name='hoja2',index=False)\n",
    "    \n",
    "    #Usamos métodos de xlsxwriter para editarlo\n",
    "    # Primero recuperamos los objetos que modelan al excel (libro, hojas, formato, etc)\n",
    "    workbook: xlsxwriter.Workbook = writer.book\n",
    "    hoja1:xlsxwriter.Workbook.worksheet_class = writer.sheets[\"hoja1\"]\n",
    "    hoja2:xlsxwriter.Workbook.worksheet_class = writer.sheets[\"hoja2\"]\n",
    "    \n",
    "    formato = workbook.add_format({'bold':True,\"bg_color\":\"yellow\", 'font_color': 'red'})\n",
    "    \n",
    "    # pintemos con este formato a la primer columna de cada hoja\n",
    "    hoja1.set_column('A:A', None, formato)\n",
    "    hoja2.set_column('A:A', None, formato)\n",
    "    \n",
    "    \n",
    "    "
   ]
  },
  {
   "cell_type": "markdown",
   "metadata": {},
   "source": [
    "En este ejemplo de arriba se ve como funcionan perfectamente las dos librerias. Con `pandas` imprimimos los datos y podemos usar a `xlsxwriter` para darle formato sin alterarlos. Vean como usa `None` para indicar a xlsxwriter que no tiene que modificar los datos de las celdas, con `.set_column(<rango>, <datos>,<formato>, etc.)` podemos usar la notación de rangos de columnas de excel como `A:A`"
   ]
  },
  {
   "cell_type": "markdown",
   "metadata": {},
   "source": [
    "Acá abajo les dejo un ejemplo en el que no usamos `pd.to_excel()` de pandas para imprimir nuestras tablas sino que armamos dos bucles anidados para que recorra la tabla celda por celda. Tengan en cuenta este ejemplo porque en muchos casos que trabajemos con tablas y nos falte un método necesario, podemos hacer este barrido de la tabla como último recurso. Si bien no es lo más eficiente, hace que las cosas funcionen."
   ]
  },
  {
   "cell_type": "code",
   "execution_count": null,
   "metadata": {},
   "outputs": [
    {
     "name": "stdout",
     "output_type": "stream",
     "text": [
      "Miren en que orden barre la tabla.\n",
      "Fila: 0, columna: 0, valor: 1\n",
      "Fila: 0, columna: 1, valor: 3\n",
      "Fila: 1, columna: 0, valor: 2\n",
      "Fila: 1, columna: 1, valor: 4\n",
      "Fila: 2, columna: 0, valor: 3\n",
      "Fila: 2, columna: 1, valor: 5\n"
     ]
    }
   ],
   "source": [
    "df = pd.DataFrame({'col1':[1,2,3], 'col2':[3,4,5]})\n",
    "\n",
    "\n",
    "with pd.ExcelWriter('desde_pandas.xlsx',engine='xlsxwriter') as writer:\n",
    "       \n",
    "    workbook: xlsxwriter.Workbook = writer.book\n",
    "    hoja1 = workbook.add_worksheet(\"hoja1\")\n",
    "    \n",
    "    formato = workbook.add_format({\"color\":\"red\",\"bold\":True})\n",
    "    \n",
    "    \n",
    "    (max_filas, max_columnas)= df.shape\n",
    "    \n",
    "    \n",
    "    print('Miren en que orden barre la tabla.')\n",
    "    for fila in range(max_filas):\n",
    "        for columna in range(max_columnas):\n",
    "            print(f'Fila: {fila}, columna: {columna}, valor: {df.iloc[fila,columna]}')\n",
    "            hoja1.write(fila,columna, df.iloc[fila,columna],formato)       \n",
    "   "
   ]
  },
  {
   "cell_type": "markdown",
   "metadata": {},
   "source": [
    "Les dejo otro ejemplo más completo. Por ejemplo damos un formato monetario a lsa columnas numéricas. Tengan en cuenta que cuando pandas ya abrio la hoja para escribir los datos, la podemos recuperar esa hoja usando `writer.sheets[<nombre de hoja>]`"
   ]
  },
  {
   "cell_type": "code",
   "execution_count": null,
   "metadata": {},
   "outputs": [],
   "source": [
    "df1 = pd.DataFrame({'col1': [1.1, 2.2, 3.3], 'col2': [4.4, 5.5, 6.6]})\n",
    "df2 = pd.DataFrame({'col1': [7.7, 8.8, 9.9], 'col2': [10.10, 11.11, 12.12]})\n",
    "\n",
    "with pd.ExcelWriter('formato_numerico.xlsx', engine='xlsxwriter') as writer:\n",
    "    \n",
    "    df1.to_excel(writer, sheet_name='sheet1', index=None)\n",
    "    df2.to_excel(writer, sheet_name='sheet2', index=None)\n",
    "    workbook:xlsxwriter.Workbook = writer.book\n",
    "    \n",
    "    formato_dinero = workbook.add_format({'num_format': '#.##0,00 [$ARS];-#.##0,00 [$ARS]'})\n",
    "    formato_bordes = workbook.add_format({'border': 1})\n",
    "    formato_encabezado = workbook.add_format({'bold': True, \"bg_color\":\"yellow\", 'font_color': 'red'})\n",
    "    formato_encabezado.set_border(3)\n",
    "    formato_encabezado.set_align(\"left\")\n",
    "    \n",
    "    \n",
    "    \n",
    "    for worksheet in writer.sheets.values():\n",
    "        hoja:xlsxwriter.Workbook.worksheet_class = worksheet\n",
    "        hoja.set_row(0, None, formato_encabezado)\n",
    "        hoja.set_column(0,0, None, formato_bordes)\n",
    "        hoja.conditional_format('A2:D4', {'type': 'no_blanks', 'format': formato_dinero})\n",
    "\n",
    "    "
   ]
  },
  {
   "cell_type": "markdown",
   "metadata": {},
   "source": [
    "Hagan la prueba, van a ver que este código funciona casi al 100% pero van a ver que el encabezado no se pintó correctamente.  Le podemos dar una vuelta y arreglarlo usando formato condicional en vez de pintar toda la fila. Salvo para este caso donde querramos formatear toda la fila que tiene el encabezado, `.set_row()`  funciona correctamente."
   ]
  },
  {
   "cell_type": "code",
   "execution_count": null,
   "metadata": {},
   "outputs": [],
   "source": [
    "with pd.ExcelWriter('formato_numerico.xlsx', engine='xlsxwriter') as writer:\n",
    "    \n",
    "    df1.to_excel(writer, sheet_name='sheet1', index=None)\n",
    "    df2.to_excel(writer, sheet_name='sheet2', index=None)\n",
    "    workbook:xlsxwriter.Workbook = writer.book\n",
    "    \n",
    "    formato_dinero = workbook.add_format({'num_format': '#.##0,00 [$ARS];-#.##0,00 [$ARS]'})\n",
    "    formato_bordes = workbook.add_format({'border': 1})\n",
    "    formato_encabezado = workbook.add_format({'bold': True, \"bg_color\":\"yellow\", 'font_color': 'red'})\n",
    "    formato_encabezado.set_border(3)\n",
    "    formato_encabezado.set_align(\"left\")\n",
    "    \n",
    "    \n",
    "    \n",
    "    for worksheet in writer.sheets.values():\n",
    "        hoja:xlsxwriter.Workbook.worksheet_class = worksheet\n",
    "        hoja.conditional_format('A1:D1', {'type': 'no_blanks', 'format': formato_encabezado})\n",
    "        hoja.set_column(0,0, None, formato_bordes)\n",
    "        hoja.conditional_format('A2:D4', {'type': 'no_blanks', 'format': formato_dinero})"
   ]
  },
  {
   "cell_type": "markdown",
   "metadata": {},
   "source": [
    "Con ese cambio funciona perfectamente, con formato condicional aplica el estilo si las celdas no están en blanco. La otra alternativa era hacer un loop sobre la primer fila e ir aplicando el estilo celda por celda."
   ]
  },
  {
   "cell_type": "markdown",
   "metadata": {},
   "source": [
    "## Ejercicio en clase\n",
    "\n",
    "El objetivo es leer y limpiar un excel de complejos exportadores para luego exportarlo en otro excel en el que en cada hoja tenga un complejo exportador distinto. Además podemos usar formato condicional en las celdas para diferenciar las variaciones positivas de las negativas."
   ]
  },
  {
   "cell_type": "code",
   "execution_count": 12,
   "metadata": {},
   "outputs": [
    {
     "data": {
      "text/html": [
       "<div>\n",
       "<style scoped>\n",
       "    .dataframe tbody tr th:only-of-type {\n",
       "        vertical-align: middle;\n",
       "    }\n",
       "\n",
       "    .dataframe tbody tr th {\n",
       "        vertical-align: top;\n",
       "    }\n",
       "\n",
       "    .dataframe thead th {\n",
       "        text-align: right;\n",
       "    }\n",
       "</style>\n",
       "<table border=\"1\" class=\"dataframe\">\n",
       "  <thead>\n",
       "    <tr style=\"text-align: right;\">\n",
       "      <th></th>\n",
       "      <th>Unnamed: 0</th>\n",
       "      <th>2019</th>\n",
       "      <th>2020*</th>\n",
       "      <th>2021*</th>\n",
       "      <th>2022*</th>\n",
       "      <th>2022*/19</th>\n",
       "      <th>2022*/21*</th>\n",
       "    </tr>\n",
       "  </thead>\n",
       "  <tbody>\n",
       "    <tr>\n",
       "      <th>2</th>\n",
       "      <td>Total de exportaciones</td>\n",
       "      <td>65115</td>\n",
       "      <td>54884.0</td>\n",
       "      <td>77934.0</td>\n",
       "      <td>88446.0</td>\n",
       "      <td>35.8</td>\n",
       "      <td>13.5</td>\n",
       "    </tr>\n",
       "    <tr>\n",
       "      <th>3</th>\n",
       "      <td>Principales complejos</td>\n",
       "      <td>59486</td>\n",
       "      <td>50066.0</td>\n",
       "      <td>71106.0</td>\n",
       "      <td>82066.0</td>\n",
       "      <td>38</td>\n",
       "      <td>15.4</td>\n",
       "    </tr>\n",
       "    <tr>\n",
       "      <th>4</th>\n",
       "      <td>Sector oleaginoso</td>\n",
       "      <td>18867</td>\n",
       "      <td>16730.0</td>\n",
       "      <td>26389.0</td>\n",
       "      <td>27989.0</td>\n",
       "      <td>48.3</td>\n",
       "      <td>6.1</td>\n",
       "    </tr>\n",
       "    <tr>\n",
       "      <th>5</th>\n",
       "      <td>Complejo soja</td>\n",
       "      <td>16943</td>\n",
       "      <td>14865.0</td>\n",
       "      <td>23841.0</td>\n",
       "      <td>24868.0</td>\n",
       "      <td>46.8</td>\n",
       "      <td>4.3</td>\n",
       "    </tr>\n",
       "    <tr>\n",
       "      <th>6</th>\n",
       "      <td>Harinas y pellets de soja</td>\n",
       "      <td>8806</td>\n",
       "      <td>7806.0</td>\n",
       "      <td>11796.0</td>\n",
       "      <td>12041.0</td>\n",
       "      <td>36.7</td>\n",
       "      <td>2.1</td>\n",
       "    </tr>\n",
       "  </tbody>\n",
       "</table>\n",
       "</div>"
      ],
      "text/plain": [
       "                       Unnamed: 0   2019    2020*    2021*    2022* 2022*/19  \\\n",
       "2          Total de exportaciones  65115  54884.0  77934.0  88446.0     35.8   \n",
       "3           Principales complejos  59486  50066.0  71106.0  82066.0       38   \n",
       "4               Sector oleaginoso  18867  16730.0  26389.0  27989.0     48.3   \n",
       "5                   Complejo soja  16943  14865.0  23841.0  24868.0     46.8   \n",
       "6       Harinas y pellets de soja   8806   7806.0  11796.0  12041.0     36.7   \n",
       "\n",
       "   2022*/21*  \n",
       "2       13.5  \n",
       "3       15.4  \n",
       "4        6.1  \n",
       "5        4.3  \n",
       "6        2.1  "
      ]
     },
     "execution_count": 12,
     "metadata": {},
     "output_type": "execute_result"
    }
   ],
   "source": [
    "var_complejos = pd.read_excel(\n",
    "    \"https://www.indec.gob.ar/ftp/cuadros/economia/complexp_variacion_2019_2022.xls\",\n",
    "    header=3).dropna()\n",
    "var_complejos.head()"
   ]
  },
  {
   "cell_type": "markdown",
   "metadata": {},
   "source": [
    "Las jerarquía de datos esta delimitada por tabulaciones en la columna de descripciones 😡"
   ]
  },
  {
   "cell_type": "code",
   "execution_count": null,
   "metadata": {},
   "outputs": [],
   "source": [
    "var_complejos.columns = [str(columna).replace('*','') for columna in var_complejos.columns]\n",
    "\n",
    "var_complejos_etiquetas = var_complejos.iloc[:,0]\n",
    "\n",
    "var_complejos = var_complejos.iloc[:,1:].astype(float)\n",
    "\n",
    "var_complejos_etiquetas = pd.DataFrame({\n",
    "    \"item\":var_complejos_etiquetas, \n",
    "    \"nivel\":var_complejos_etiquetas.apply(lambda item: (len(item) - len(item.lstrip())) // 2)})\n",
    "\n",
    "maximo_nivel = var_complejos_etiquetas.nivel.max()\n",
    "for nivel in range(maximo_nivel+1):\n",
    "    var_complejos_etiquetas[f'nivel{nivel}'] = var_complejos_etiquetas.apply(\n",
    "        lambda fila: fila['item'] if fila['nivel']==nivel else pd.NA, axis=1)\n",
    "for nivel in range(maximo_nivel):\n",
    "    var_complejos_etiquetas[f'nivel{nivel}'] = var_complejos_etiquetas[f'nivel{nivel}'].ffill()\n",
    "    var_complejos_etiquetas[var_complejos_etiquetas['nivel'] == nivel] = (\n",
    "        var_complejos_etiquetas\n",
    "        .query('nivel == @nivel')\n",
    "        .ffill(axis=1))\n",
    "var_complejos_etiquetas = var_complejos_etiquetas.drop('item',axis=1).applymap(lambda v: v.lstrip() if (type(v) == str) else v)\n",
    "var_complejos = pd.concat([var_complejos_etiquetas,var_complejos],axis=1)"
   ]
  },
  {
   "cell_type": "code",
   "execution_count": null,
   "metadata": {},
   "outputs": [
    {
     "data": {
      "text/html": [
       "<div>\n",
       "<style scoped>\n",
       "    .dataframe tbody tr th:only-of-type {\n",
       "        vertical-align: middle;\n",
       "    }\n",
       "\n",
       "    .dataframe tbody tr th {\n",
       "        vertical-align: top;\n",
       "    }\n",
       "\n",
       "    .dataframe thead th {\n",
       "        text-align: right;\n",
       "    }\n",
       "</style>\n",
       "<table border=\"1\" class=\"dataframe\">\n",
       "  <thead>\n",
       "    <tr style=\"text-align: right;\">\n",
       "      <th></th>\n",
       "      <th>nivel</th>\n",
       "      <th>nivel0</th>\n",
       "      <th>nivel1</th>\n",
       "      <th>nivel2</th>\n",
       "      <th>2019</th>\n",
       "      <th>2020</th>\n",
       "      <th>2021</th>\n",
       "      <th>2022</th>\n",
       "      <th>2022/19</th>\n",
       "      <th>2022/21</th>\n",
       "    </tr>\n",
       "  </thead>\n",
       "  <tbody>\n",
       "    <tr>\n",
       "      <th>2</th>\n",
       "      <td>0</td>\n",
       "      <td>Total de exportaciones</td>\n",
       "      <td>Total de exportaciones</td>\n",
       "      <td>Total de exportaciones</td>\n",
       "      <td>65115.0</td>\n",
       "      <td>54884.0</td>\n",
       "      <td>77934.0</td>\n",
       "      <td>88446.0</td>\n",
       "      <td>35.8</td>\n",
       "      <td>13.5</td>\n",
       "    </tr>\n",
       "    <tr>\n",
       "      <th>3</th>\n",
       "      <td>0</td>\n",
       "      <td>Principales complejos</td>\n",
       "      <td>Principales complejos</td>\n",
       "      <td>Principales complejos</td>\n",
       "      <td>59486.0</td>\n",
       "      <td>50066.0</td>\n",
       "      <td>71106.0</td>\n",
       "      <td>82066.0</td>\n",
       "      <td>38.0</td>\n",
       "      <td>15.4</td>\n",
       "    </tr>\n",
       "    <tr>\n",
       "      <th>4</th>\n",
       "      <td>0</td>\n",
       "      <td>Sector oleaginoso</td>\n",
       "      <td>Sector oleaginoso</td>\n",
       "      <td>Sector oleaginoso</td>\n",
       "      <td>18867.0</td>\n",
       "      <td>16730.0</td>\n",
       "      <td>26389.0</td>\n",
       "      <td>27989.0</td>\n",
       "      <td>48.3</td>\n",
       "      <td>6.1</td>\n",
       "    </tr>\n",
       "    <tr>\n",
       "      <th>5</th>\n",
       "      <td>1</td>\n",
       "      <td>Sector oleaginoso</td>\n",
       "      <td>Complejo soja</td>\n",
       "      <td>Complejo soja</td>\n",
       "      <td>16943.0</td>\n",
       "      <td>14865.0</td>\n",
       "      <td>23841.0</td>\n",
       "      <td>24868.0</td>\n",
       "      <td>46.8</td>\n",
       "      <td>4.3</td>\n",
       "    </tr>\n",
       "    <tr>\n",
       "      <th>6</th>\n",
       "      <td>2</td>\n",
       "      <td>Sector oleaginoso</td>\n",
       "      <td>Complejo soja</td>\n",
       "      <td>Harinas y pellets de soja</td>\n",
       "      <td>8806.0</td>\n",
       "      <td>7806.0</td>\n",
       "      <td>11796.0</td>\n",
       "      <td>12041.0</td>\n",
       "      <td>36.7</td>\n",
       "      <td>2.1</td>\n",
       "    </tr>\n",
       "  </tbody>\n",
       "</table>\n",
       "</div>"
      ],
      "text/plain": [
       "   nivel                  nivel0                  nivel1  \\\n",
       "2      0  Total de exportaciones  Total de exportaciones   \n",
       "3      0   Principales complejos   Principales complejos   \n",
       "4      0       Sector oleaginoso       Sector oleaginoso   \n",
       "5      1       Sector oleaginoso           Complejo soja   \n",
       "6      2       Sector oleaginoso           Complejo soja   \n",
       "\n",
       "                      nivel2     2019     2020     2021     2022  2022/19  \\\n",
       "2     Total de exportaciones  65115.0  54884.0  77934.0  88446.0     35.8   \n",
       "3      Principales complejos  59486.0  50066.0  71106.0  82066.0     38.0   \n",
       "4          Sector oleaginoso  18867.0  16730.0  26389.0  27989.0     48.3   \n",
       "5              Complejo soja  16943.0  14865.0  23841.0  24868.0     46.8   \n",
       "6  Harinas y pellets de soja   8806.0   7806.0  11796.0  12041.0     36.7   \n",
       "\n",
       "   2022/21  \n",
       "2     13.5  \n",
       "3     15.4  \n",
       "4      6.1  \n",
       "5      4.3  \n",
       "6      2.1  "
      ]
     },
     "execution_count": 111,
     "metadata": {},
     "output_type": "execute_result"
    }
   ],
   "source": [
    "var_complejos.head(10)"
   ]
  },
  {
   "cell_type": "markdown",
   "metadata": {},
   "source": [
    "Mucho mejor 😁"
   ]
  },
  {
   "cell_type": "markdown",
   "metadata": {},
   "source": [
    "Realmente este cuadro es un ejemplo de como publicar datos para que sean difíciles de trabajar, todo el código de arriba es la limpieza que hice."
   ]
  },
  {
   "cell_type": "code",
   "execution_count": null,
   "metadata": {},
   "outputs": [],
   "source": [
    "var_complejos_agrupada_por_n0 = var_complejos.groupby(\"nivel0\")\n",
    "\n",
    "with pd.ExcelWriter(\"complejos_exportadores.xlsx\", engine=\"xlsxwriter\") as writer:\n",
    "    book:xlsxwriter.Workbook = writer.book\n",
    "    formato_encabezado = book.add_format({'bold': True, \"bg_color\":\"#ADD8E6\"})\n",
    "    formato_encabezado.set_border(6)\n",
    "    formato_encabezado.set_align(\"left\")\n",
    "    for nombre, df in var_complejos_agrupada_por_n0:\n",
    "        (\n",
    "            df\n",
    "            .drop([\"nivel\",\"nivel0\"],axis=1)\n",
    "            .to_excel(writer,sheet_name=nombre[:31], index=False))\n",
    "        hoja: xlsxwriter.Workbook.worksheet_class = writer.sheets[nombre[:31]]\n",
    "        hoja.conditional_format('A1:H1', {'type': 'no_blanks', 'format': formato_encabezado})\n",
    "        hoja.set_column(0,1,20)\n",
    "        "
   ]
  }
 ],
 "metadata": {
  "kernelspec": {
   "display_name": ".venv",
   "language": "python",
   "name": "python3"
  },
  "language_info": {
   "codemirror_mode": {
    "name": "ipython",
    "version": 3
   },
   "file_extension": ".py",
   "mimetype": "text/x-python",
   "name": "python",
   "nbconvert_exporter": "python",
   "pygments_lexer": "ipython3",
   "version": "3.10.12"
  }
 },
 "nbformat": 4,
 "nbformat_minor": 2
}
