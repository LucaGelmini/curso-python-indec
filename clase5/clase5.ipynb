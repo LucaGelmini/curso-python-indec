{
 "cells": [
  {
   "cell_type": "markdown",
   "metadata": {},
   "source": [
    "# Clase 5 - XlsxWriter, estructura de un proyecto y ejemplos prácticos 💹📋"
   ]
  },
  {
   "cell_type": "markdown",
   "metadata": {},
   "source": [
    "## XlsxWriter\n",
    "\n",
    "Se instala con `pip install XlsxWriter` o `conda install XlsxWriter`\n",
    "\n",
    "Es una libreria de python que sirve para crear hojas de calculo de formato \"Excel\" de forma automatizada y con una capacidad de configuración enorme. Con XlsxWriter vamos a poder crear archivos excel de múltiples hojas a partir de muchos dataframes. Además nos va a dar la posibilidad de crear archivos excel usando casi todo lo que excel nos ofrece. Vamos a poder escribir formulas de excel, dar formato a las celdas, automatizar la creación de gráficos de excel o hasta escribir macros programáticamente.\n",
    "Muchas veces por más automatizados y complejos que sean nuestros procesos es necesario compartirlos en forma de hojas de cálculo simplemente por la facilidad y familiaridad que tiene esa herramienta. Cuándo queremos exportar proyectos complejos a un excel es usual que un excel de una sola hoja con una tabla plana no sea suficiente satisfacer el objetivo del proyecto, para eso podemos usar esta libreria para sacarle más provecho al formato de excel.\n",
    "\n",
    "¡Vean la documentación acá!: [Documentación XlsxWriter](https://xlsxwriter.readthedocs.io/)\n",
    "\n",
    "Veamos ejemplos:"
   ]
  },
  {
   "cell_type": "code",
   "execution_count": 2,
   "metadata": {},
   "outputs": [],
   "source": [
    "import xlsxwriter\n",
    "\n",
    "workbook = xlsxwriter.Workbook('hello.xlsx')\n",
    "worksheet = workbook.add_worksheet()\n",
    "\n",
    "worksheet.write('A1', 'Hello world')\n",
    "\n",
    "workbook.close()"
   ]
  },
  {
   "cell_type": "markdown",
   "metadata": {},
   "source": [
    "En este ejemplo ven como crea un nuevo archivo de excel y explícitamente en escribe algo en la celda 'A1'.\n",
    "Quiero que noten como debe usar el método `.close()` para dejar de trbajar con el archivo. Es super importante no olvidarse de cerrar los archivos porque al igual que cuando uno usa un excel, ninguna otra persona ni proceso puede modificarlo mientras esté abierto. No cerrarlo va a causar que no sea seguro que los procesos que quisimos plasmar en el excel se guarden y tambien puede generar que su programa no pueda terminar correctamente o que directamente se quede abierto imposibilitando usar el archivo.\n",
    "\n",
    "Por esa razón, para no olvidarse de cerrar el archivo, recomiendo mucho esta otra forma de escribir el mismo código:"
   ]
  },
  {
   "cell_type": "code",
   "execution_count": 3,
   "metadata": {},
   "outputs": [],
   "source": [
    "with xlsxwriter.Workbook('hello.xlsx') as workbook:\n",
    "    worksheet = workbook.add_worksheet()\n",
    "    worksheet.write('A1', 'Hello world')\n"
   ]
  },
  {
   "cell_type": "markdown",
   "metadata": {},
   "source": [
    "De esa forma abrimos o creamos el documento con `with` y una vez que salimos de ese bloque de código, el archivo se cierra de manera segura. Tengan en cuenta este patrón cada vez que en Python encuentren este tipo de objetos que deban ser cerrados por un método como `.close()` ya que posiblemente funcionen con `with` y de esa forma dejemos un código más claro y seguro."
   ]
  },
  {
   "cell_type": "markdown",
   "metadata": {},
   "source": [
    "### El objeto `Workbook`, `Worksheet` y otros\n",
    "Fijense como para usar esta librería debemos usar los objetos que nos provee. Para hacer la hoja de cálculo más simple debemos llamar por lo menos a dos objetos. Al objeto `Workbook` que va a representar en el Python a nuestro archivo de excel y al objeto `WorkSheet` que representa a una hoja del excel.\n",
    "\n",
    "Noten esto: primero llamamos a Workbook con el nombre del archivo que queremos modificar o leer (`workbook = xlsxwriter.Workbook('hello.xlsx')` o de la otra forma equivalente `with xlsxwriter.Workbook('hello.xlsx') as workbook:`). Luego es a partir del objeto que llamamos workbook que podemos traer nuevos objetos que como `Worksheet` a través de los métodos `.add_????()`que van a representar otras funcionalidades del excel. En el ejemplo de arriba creo solo una hoja a la que le escribe algo.\n",
    "\n",
    "En el siguiente ejemplo escribimos dos hojas y le ponemos formato a las celdas con el objeto `Format`:"
   ]
  },
  {
   "cell_type": "code",
   "execution_count": 6,
   "metadata": {},
   "outputs": [],
   "source": [
    "with xlsxwriter.Workbook('hello.xlsx') as libro2:\n",
    "    hoja1 = libro2.add_worksheet()\n",
    "    hoja2 = libro2.add_worksheet()\n",
    "    formato_celda_resaltada = libro2.add_format({'bold':True,\"bg_color\":\"yellow\", 'font_color': 'red'})\n",
    "    hoja1.write('A1', 'Hola mundo', formato_celda_resaltada)\n",
    "    hoja2.write(0,0,'Chau')"
   ]
  },
  {
   "cell_type": "markdown",
   "metadata": {},
   "source": [
    "Tengamos en cuenta que de la misma manera que puse un texto en una celda, tambien podemos escribir fórmulas de excel. Y asi como puedo agregar hojas al proyecto también puedo agregar gráficos si quisiese."
   ]
  },
  {
   "cell_type": "markdown",
   "metadata": {},
   "source": [
    "### Pandas y XlsxWriter 🐼 📊"
   ]
  },
  {
   "cell_type": "markdown",
   "metadata": {},
   "source": [
    "Esta libreria funciona muy bien integrada con Pandas, para ello debemos aprovechar el objeto `ExcelWriter` que es la herramienta de pandas para integrarse muchas librerias para exportar los datos. Van a ver que se una muy parecido a los objetos que estabamos viendo antes, en este caso tenemos que indicarle a pandas que estamos usando como motor de exportación a __xlsxwriter__"
   ]
  },
  {
   "cell_type": "code",
   "execution_count": 172,
   "metadata": {},
   "outputs": [],
   "source": [
    "import pandas as pd\n",
    "\n",
    "df1 = pd.DataFrame({'uno':[1,2,3], 'dos':[3,2,1]})\n",
    "df2 = pd.DataFrame({'hola':['a','b','c'], 'chau':[9,8,7]})\n",
    "\n",
    "with pd.ExcelWriter('pandas.xlsx', engine='xlsxwriter') as writer:\n",
    "    # Escribimos los datos en dos hojas distintas del excel\n",
    "    df1.to_excel(writer,sheet_name='hoja1',index=False)\n",
    "    df2.to_excel(writer,sheet_name='hoja2',index=False)\n",
    "    \n",
    "    #Usamos métodos de xlsxwriter para editarlo\n",
    "    # Primero recuperamos los objetos que modelan al excel (libro, hojas, formato, etc)\n",
    "    workbook: xlsxwriter.Workbook = writer.book\n",
    "    hoja1:xlsxwriter.Workbook.worksheet_class = writer.sheets[\"hoja1\"]\n",
    "    hoja2:xlsxwriter.Workbook.worksheet_class = writer.sheets[\"hoja2\"]\n",
    "    \n",
    "    formato = workbook.add_format({'bold':True,\"bg_color\":\"yellow\", 'font_color': 'red'})\n",
    "    \n",
    "    # pintemos con este formato a la primer columna de cada hoja\n",
    "    for df, hoja in [(df1, hoja1),(df2, hoja2)]:\n",
    "        max_row, max_col = df.shape\n",
    "        for row in range(max_row):\n",
    "            hoja.write(row+1,0,df.iloc[row,0],formato)\n",
    "    \n",
    "    \n",
    "    "
   ]
  },
  {
   "cell_type": "markdown",
   "metadata": {},
   "source": [
    "Si bien en este ejemplo no lo uso por la simplicidad que tiene, una de los cosas más útiles del objeto de formato es poder cambiar el formato de los numneros. Por ejemplo lo siguiente es un formato válido: `money = workbook.add_format({'num_format': '$#,##0'})`"
   ]
  },
  {
   "cell_type": "markdown",
   "metadata": {},
   "source": [
    "## Ejercicio en clase\n",
    "\n",
    "El objetivo es leer y limpiar un excel de complejos exportadores para luego exportarlo en otro excel en el que en cada hoja tenga un complejo exportador distinto. Además podemos usar formato condicional en las celdas para diferenciar las variaciones positivas de las negativas."
   ]
  },
  {
   "cell_type": "code",
   "execution_count": 146,
   "metadata": {},
   "outputs": [
    {
     "name": "stderr",
     "output_type": "stream",
     "text": [
      "C:\\Users\\lucag\\AppData\\Local\\Temp\\ipykernel_11116\\2526349808.py:19: FutureWarning: Setting an item of incompatible dtype is deprecated and will raise in a future error of pandas. Value '[0 0 0 0 0 0 0 0 0 0 0 0 0 0 0 0 0 0 0 0 0 0]' has dtype incompatible with int64, please explicitly cast to a compatible dtype first.\n",
      "  var_complejos_etiquetas[var_complejos_etiquetas['nivel'] == nivel] = var_complejos_etiquetas.query('nivel == @nivel').ffill(axis=1)\n"
     ]
    }
   ],
   "source": [
    "var_complejos = pd.read_excel(\"complexp_variacion_2019_2022.xls\", header=3).dropna()\n",
    "\n",
    "var_complejos.columns = [str(columna).replace('*','') for columna in var_complejos.columns]\n",
    "\n",
    "var_complejos_etiquetas = var_complejos.iloc[:,0]\n",
    "\n",
    "var_complejos = var_complejos.iloc[:,1:].astype(float)\n",
    "\n",
    "var_complejos_etiquetas = pd.DataFrame({\n",
    "    \"item\":var_complejos_etiquetas, \n",
    "    \"nivel\":var_complejos_etiquetas.apply(lambda item: (len(item) - len(item.lstrip())) // 2)})\n",
    "\n",
    "maximo_nivel = var_complejos_etiquetas.nivel.max()\n",
    "for nivel in range(maximo_nivel+1):\n",
    "    var_complejos_etiquetas[f'nivel{nivel}'] = var_complejos_etiquetas.apply(\n",
    "        lambda fila: fila['item'] if fila['nivel']==nivel else pd.NA, axis=1)\n",
    "for nivel in range(maximo_nivel):\n",
    "    var_complejos_etiquetas[f'nivel{nivel}'] = var_complejos_etiquetas[f'nivel{nivel}'].ffill()\n",
    "    var_complejos_etiquetas[var_complejos_etiquetas['nivel'] == nivel] = var_complejos_etiquetas.query('nivel == @nivel').ffill(axis=1)\n",
    "var_complejos_etiquetas = var_complejos_etiquetas.drop('item',axis=1)\n",
    "var_complejos = pd.concat([var_complejos_etiquetas,var_complejos],axis=1)"
   ]
  },
  {
   "cell_type": "code",
   "execution_count": 154,
   "metadata": {},
   "outputs": [],
   "source": [
    "var_complejos_agrupada_por_n0 = var_complejos.groupby(\"nivel0\")\n"
   ]
  }
 ],
 "metadata": {
  "kernelspec": {
   "display_name": ".venv",
   "language": "python",
   "name": "python3"
  },
  "language_info": {
   "codemirror_mode": {
    "name": "ipython",
    "version": 3
   },
   "file_extension": ".py",
   "mimetype": "text/x-python",
   "name": "python",
   "nbconvert_exporter": "python",
   "pygments_lexer": "ipython3",
   "version": "3.11.6"
  }
 },
 "nbformat": 4,
 "nbformat_minor": 2
}
