{
 "cells": [
  {
   "cell_type": "markdown",
   "metadata": {},
   "source": [
    "# Clase 3 - Introducción a Pandas 🐼\n",
    "Pandas funciona partiendo de las funcionalidades que trae la librería _numpy_.\n",
    "## Pero antes... ¿Qué es Numpy?\n",
    "Cuando queremos hacer trabajos analíticos relacionados al procesamiento de información, lo más probable es que nos encontremos trabajando con información estructurada como tablas. Ahora, ¿cómo está compuesta una tabla?\n",
    "### Las tablas son matrices con índices:\n",
    "Debemos pensar a las tablas como una forma de organizar datos, pueden haber otras formas (ya les hable de anidar un diccionario adentro de otro y así sucesivamente). Pero en el caso de las tablas (piensen en el excel); matemáticamente, no son otra cosa que matrices de dos dimensiones a las que se le agrega la propiedad de tener un índice para las filas y un índice para las columnas.\n",
    "¿A qué me refiero con índices?\n",
    "Bueno, en realidad ya estamos familiarizados con eso; al índice de las columnas es al que llamamos encabezado de la tabla y el índice de las filas simplemente es el número de fila. Como ven, esto no está lejos de nuestra experiencia con planillas de cálculo excel.\n",
    "### Las matrices se componen de vectores:\n",
    "Para la gente que sabe R, ya estamos llegando a un terreno conocido. Los vectores son una nueva forma de estrucutrar un conjunto de datos ordenados en serie que, si bien son parecidos a una lista, internamente funcionan muy diferente y nos van a permitir hacer un monton de operaciones mucho más potentes cuando estemos trabajando con muchísimos más datos. De hecho, hacer un _for loop_ sobre una lista es una operación sensiblemente más lenta que iterar y operar sobre un vector.\n",
    "Entonces una matriz de numpy (y una tabla de pandas también), simplemente esta compuesta de muchos vectores, uno al lado del otro. Simplemente imaginen las columnas de una tabla: cada una sun muchos datos en serie, si las ponemos todas juntas tenemos una matriz. Pasa lo mismo si quieren pensarlas en términos de filas, las ponen todas juntas, unas arriba de las otras y listo, tienen una matriz.\n",
    "\n",
    "¡Igual tranquilos! No vamos a estar trabajando directamente sobre la idea de matrices y con __numpy__, vamos a usar __pandas__ y practicar con las viejas y conocidas tablas. Pero es bueno que sepan un poquito qué es lo que sucede detrás, porque quizás nos encontremos que una función o método de __numpy__ sea útil para algún proceso.\n"
   ]
  },
  {
   "cell_type": "markdown",
   "metadata": {},
   "source": [
    "## Veamos algunas propiedades de los vectores distintas a las listas\n",
    "__NOTA:__ vamos a usar vectores y arrays (arreglos) como sinónimos. Si un lic. en ciencias de la computación ve esto, me pega."
   ]
  },
  {
   "cell_type": "code",
   "execution_count": 5,
   "metadata": {},
   "outputs": [
    {
     "name": "stdout",
     "output_type": "stream",
     "text": [
      "<class 'numpy.ndarray'>\n"
     ]
    }
   ],
   "source": [
    "import numpy as np\n",
    "\n",
    "arr = np.array([1,2,3,4]) # Así de define un array de numpy\n",
    "print(type(arr))"
   ]
  },
  {
   "cell_type": "markdown",
   "metadata": {},
   "source": [
    "### ¿Cómo operamos sobre un arreglo?\n",
    "A diferencia de las listas podemos hacer una operación entre un array y un escalar (escalar, en criollo, es un numero solo en vez de otro vector). El resultado de hacer esto es otro array que reprodujo la operación para cada miembro. ¡Sin for loops! Y mucho más rapido"
   ]
  },
  {
   "cell_type": "code",
   "execution_count": 7,
   "metadata": {},
   "outputs": [
    {
     "name": "stdout",
     "output_type": "stream",
     "text": [
      "[2 3 4 5]\n"
     ]
    }
   ],
   "source": [
    "\n",
    "print(arr + 1)"
   ]
  },
  {
   "cell_type": "markdown",
   "metadata": {},
   "source": [
    "¿Y que pasa si hacemos una operación entre arrays del mismo tamaño?"
   ]
  },
  {
   "cell_type": "code",
   "execution_count": 8,
   "metadata": {},
   "outputs": [
    {
     "data": {
      "text/plain": [
       "array([ 2,  4,  9, 12])"
      ]
     },
     "execution_count": 8,
     "metadata": {},
     "output_type": "execute_result"
    }
   ],
   "source": [
    "arr * np.array([2,2,3,3])"
   ]
  }
 ],
 "metadata": {
  "kernelspec": {
   "display_name": "api-T_tCZG5k-py3.10",
   "language": "python",
   "name": "python3"
  },
  "language_info": {
   "codemirror_mode": {
    "name": "ipython",
    "version": 3
   },
   "file_extension": ".py",
   "mimetype": "text/x-python",
   "name": "python",
   "nbconvert_exporter": "python",
   "pygments_lexer": "ipython3",
   "version": "3.10.2"
  }
 },
 "nbformat": 4,
 "nbformat_minor": 2
}
