{
 "cells": [
  {
   "cell_type": "markdown",
   "metadata": {},
   "source": [
    "# Clase 3 - Introducción a Pandas 🐼\n",
    "Pandas funciona partiendo de las funcionalidades que trae la librería _numpy_.\n",
    "## Pero antes... ¿Qué es Numpy?\n",
    "Cuando queremos hacer trabajos analíticos relacionados al procesamiento de información, lo más probable es que nos encontremos trabajando con información estructurada como tablas. Ahora, ¿cómo está compuesta una tabla?\n",
    "### Analisémoslas un poco. Las tablas son matrices:\n",
    "Debemos pensar a las tablas como una forma de organizar datos, pueden haber otras formas (ya les hable de anidar un diccionario adentro de otro y así sucesivamente). Pero en el caso de las tablas (piensen en el excel); matemáticamente, no son otra cosa que matrices de dos dimensiones a las que se le agrega la propiedad de tener un índice para las filas y un índice para las columnas.\n",
    "¿A qué me refiero con índices?\n",
    "Bueno, en realidad ya estamos familiarizados con eso; al índice de las columnas es al que llamamos encabezado de la tabla y el índice de las filas simplemente es el número de fila. Como ven, esto no está lejos de nuestra experiencia con planillas de cálculo excel.\n",
    "### Sigamos analisando. Las matrices se componen de vectores:\n",
    "Para la gente que sabe R, ya estamos llegando a un terreno conocido. Los vectores son una nueva forma de estrucutrar un conjunto de datos ordenados en serie que, si bien son parecidos a una lista, internamente funcionan muy diferente y nos van a permitir hacer un monton de operaciones mucho más potentes cuando estemos trabajando con muchísimos más datos. De hecho, hacer un _for loop_ sobre una lista es una operacion muchisimo más lenta que iterar y operar sobre un vector.\n",
    "¡Igual tranquilos! No vamos a estar trabajando directamente sobre la idea de matrices y con __numpy__, vamos a usar __pandas__ y practicar con las viejas y conocidas tablas. Pero es bueno que sepan un poquito qué es lo que sucede detrás, porque quizás nos encontremos que una función o método de __numpy__ \n"
   ]
  },
  {
   "cell_type": "code",
   "execution_count": 7,
   "metadata": {},
   "outputs": [
    {
     "name": "stdout",
     "output_type": "stream",
     "text": [
      "<class 'float'>\n",
      "<class 'float'>\n",
      "<class 'str'>\n",
      "<class 'float'>\n"
     ]
    }
   ],
   "source": [
    "import pandas as pd\n",
    "s = pd.Series([1,2,\"re\", True]).str.join(\"p\")\n",
    "for item in s:\n",
    "    print(type(item))"
   ]
  },
  {
   "cell_type": "code",
   "execution_count": 8,
   "metadata": {},
   "outputs": [
    {
     "data": {
      "text/plain": [
       "0    NaN\n",
       "1    NaN\n",
       "2    rpe\n",
       "3    NaN\n",
       "dtype: object"
      ]
     },
     "execution_count": 8,
     "metadata": {},
     "output_type": "execute_result"
    }
   ],
   "source": [
    "s"
   ]
  }
 ],
 "metadata": {
  "kernelspec": {
   "display_name": "api-T_tCZG5k-py3.10",
   "language": "python",
   "name": "python3"
  },
  "language_info": {
   "codemirror_mode": {
    "name": "ipython",
    "version": 3
   },
   "file_extension": ".py",
   "mimetype": "text/x-python",
   "name": "python",
   "nbconvert_exporter": "python",
   "pygments_lexer": "ipython3",
   "version": "3.11.6"
  }
 },
 "nbformat": 4,
 "nbformat_minor": 2
}
